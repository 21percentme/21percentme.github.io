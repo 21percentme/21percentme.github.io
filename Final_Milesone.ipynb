{
  "cells": [
    {
      "cell_type": "markdown",
      "metadata": {
        "id": "DgPfrq-YeyX-"
      },
      "source": [
        "https://21percentme.github.io/Milestone1"
      ]
    },
    {
      "cell_type": "markdown",
      "metadata": {
        "id": "2GsewUGseyYB"
      },
      "source": [
        "# Introduction and Discussion (video game trends to know when making new game)"
      ]
    },
    {
      "cell_type": "markdown",
      "metadata": {
        "id": "EjcorrrPeyYB"
      },
      "source": [
        "Group Members: Jason Li and Alex Motyka\n",
        "\n",
        "For our project, we have found two pretty cool datasets that we wanted to look into. The first dataset is the Video Game Sales dataset. The other dataset is just a larger video game dataset with more info."
      ]
    },
    {
      "cell_type": "markdown",
      "metadata": {
        "id": "l2y7wFYyeyYC"
      },
      "source": [
        "## *Motivation*\n",
        "In our two datasets, we really want to understand some of the general trends with video game sales. For example, we want to understand how video game sales varies with time and location, as well how different genres differ in sales and popularity. Other things we want to explore the relationship genre has with varibales like sale, rating, popularity, completion, stc.\n",
        "\n",
        "We want to understand if there is a relationship between the the MetaCritic Reviews and User Reviews, and if there is a relationship between the number of acheivements in the game and the status of completion for that game for users. If there is a relationship, we also want to know if we could create a model to predict trends. We also want to see if this relationship is affected by the genre of the game.\n",
        "\n",
        "In regards to the validity of our data, our first dataset is a webscrape from VGchartz, an industry research firm that publishes video game hardware estimates every week and hosts an ever-expanding game database with over 55,000 titles listed, featuring up-to-date shipment information and legacy sales data. for our Second dataset, it is data also from the RAWG API, where RAWG is the largest video game database and game discovery service."
      ]
    },
    {
      "cell_type": "markdown",
      "metadata": {
        "id": "WsHJ9-sGpxv1"
      },
      "source": [
        "## *Further Resources and Subjective evaluation*\n",
        "\n",
        "For this analysis, this is probably most interesting for induviduals who want to make games, or see a glimpse into the history behind video games. For those who want to make a video game, this analysis helps understand what type of genre is popular and where they are popular, as well as how different types of games sell. A few relevant resources are mentioned below:\n",
        "\n",
        "1. VGChartz.com - a website detailing video game stats and info, which one fo these datasets was scraped off of\n",
        "\n",
        "2. RAWG.io - a video game databse API containing 500,000+ games over 50 platforms. This API wsa used to obtain the second dataset\n",
        "\n",
        "3. history.com/topics/inventions/history-of-video-games - this website can help give further insight to why some trends in the data occurred the way it did.\n",
        "\n",
        "4. github.com/leomaurodesenv/game-datasets - This repository contains may more video game and video game related data, offerring much more indepth information on different aspects of video games"
      ]
    },
    {
      "cell_type": "markdown",
      "metadata": {
        "id": "jmgf0g-feyYC"
      },
      "source": [
        "# Collaboration Plan:\n",
        "\n",
        "We plan on meeting weekly via zoom, with a Github Repository as our main collaboraiton method. We may also use Google Collab, as it has been what we are using in class, but we will really only move if the Github Repository does not work out well. We are utilizing GroupMe and Texts to communicate for this project, as well as setting up a ToDo list in order to efficiently assign tasks to each group member.\n",
        "\n",
        "Each milestone starts with a meeting to dicuss what needs to be done, and we split up the work. Then when each person is finished with their part, we have the other person review it and make sure it is okay"
      ]
    },
    {
      "cell_type": "code",
      "execution_count": 183,
      "metadata": {
        "id": "MlYJ-vMZeyYC"
      },
      "outputs": [],
      "source": [
        "#run if you are missing pandas:\n",
        "#!pip install pandas\n",
        "#%pip install seaborn\n",
        "#%pip install scikit-learn"
      ]
    },
    {
      "cell_type": "code",
      "execution_count": 184,
      "metadata": {
        "colab": {
          "base_uri": "https://localhost:8080/"
        },
        "id": "FfiJxTTfeyYD",
        "outputId": "c29e0897-a7e0-4d0a-fd67-2064b520911c"
      },
      "outputs": [
        {
          "output_type": "stream",
          "name": "stdout",
          "text": [
            "/content\n",
            "fatal: destination path '21percentme.github.io' already exists and is not an empty directory.\n",
            "/content/21percentme.github.io\n"
          ]
        }
      ],
      "source": [
        "import pandas as pd\n",
        "import numpy as np\n",
        "import matplotlib.pyplot as plt\n",
        "import seaborn as sns\n",
        "\n",
        "\n",
        "%cd /content\n",
        "!git clone https://github.com/21percentme/21percentme.github.io.git\n",
        "%cd /content/21percentme.github.io"
      ]
    },
    {
      "cell_type": "markdown",
      "metadata": {
        "id": "Mn_A6gQweyYD"
      },
      "source": [
        "## **Dataset 1: Video Game Sales (https://www.kaggle.com/datasets/gregorut/videogamesales)**"
      ]
    },
    {
      "cell_type": "markdown",
      "metadata": {
        "id": "vM52B28DeyYE"
      },
      "source": [
        "### Project Goals:\n",
        "\n",
        "We chose this dataset because video games have gained popluarity along the years, especially with the recent mobility aspects of consoles. From here, it would be interesting to see how different video games have sold over the past years, which games are the most popular, and see how sale trends correspond with real life events"
      ]
    },
    {
      "cell_type": "markdown",
      "metadata": {
        "id": "_XoAZNl5eyYE"
      },
      "source": [
        "This dataset contains a list of video games with sales greater than 100,000 copies. It was generated by a scrape of vgchartz.com, uploaded by GregorySmith\n",
        "\n",
        "\n",
        "Fields include:\n",
        "\n",
        "    Rank - Ranking of overall sales\n",
        "    Name - The games name\n",
        "    Platform - Platform of the games release (i.e. PC,PS4, etc.)\n",
        "    Year - Year of the game's release\n",
        "    Genre - Genre of the game\n",
        "    Publisher - Publisher of the game\n",
        "    NA_Sales - Sales in North America (in millions)\n",
        "    EU_Sales - Sales in Europe (in millions)\n",
        "    JP_Sales - Sales in Japan (in millions)\n",
        "    Other_Sales - Sales in the rest of the world (in millions)\n",
        "    Global_Sales - Total worldwide sales."
      ]
    },
    {
      "cell_type": "code",
      "execution_count": 185,
      "metadata": {
        "colab": {
          "base_uri": "https://localhost:8080/",
          "height": 206
        },
        "id": "yGl8uEMDeyYE",
        "outputId": "05e7ac98-0a6a-449e-abcd-e331319e4e33"
      },
      "outputs": [
        {
          "output_type": "execute_result",
          "data": {
            "text/plain": [
              "   Rank                      Name Platform    Year         Genre Publisher  \\\n",
              "0     1                Wii Sports      Wii  2006.0        Sports  Nintendo   \n",
              "1     2         Super Mario Bros.      NES  1985.0      Platform  Nintendo   \n",
              "2     3            Mario Kart Wii      Wii  2008.0        Racing  Nintendo   \n",
              "3     4         Wii Sports Resort      Wii  2009.0        Sports  Nintendo   \n",
              "4     5  Pokemon Red/Pokemon Blue       GB  1996.0  Role-Playing  Nintendo   \n",
              "\n",
              "   NA_Sales  EU_Sales  JP_Sales  Other_Sales  Global_Sales  \n",
              "0     41.49     29.02      3.77         8.46         82.74  \n",
              "1     29.08      3.58      6.81         0.77         40.24  \n",
              "2     15.85     12.88      3.79         3.31         35.82  \n",
              "3     15.75     11.01      3.28         2.96         33.00  \n",
              "4     11.27      8.89     10.22         1.00         31.37  "
            ],
            "text/html": [
              "\n",
              "  <div id=\"df-e7608f34-cbd0-409e-932d-d5ee543d4160\" class=\"colab-df-container\">\n",
              "    <div>\n",
              "<style scoped>\n",
              "    .dataframe tbody tr th:only-of-type {\n",
              "        vertical-align: middle;\n",
              "    }\n",
              "\n",
              "    .dataframe tbody tr th {\n",
              "        vertical-align: top;\n",
              "    }\n",
              "\n",
              "    .dataframe thead th {\n",
              "        text-align: right;\n",
              "    }\n",
              "</style>\n",
              "<table border=\"1\" class=\"dataframe\">\n",
              "  <thead>\n",
              "    <tr style=\"text-align: right;\">\n",
              "      <th></th>\n",
              "      <th>Rank</th>\n",
              "      <th>Name</th>\n",
              "      <th>Platform</th>\n",
              "      <th>Year</th>\n",
              "      <th>Genre</th>\n",
              "      <th>Publisher</th>\n",
              "      <th>NA_Sales</th>\n",
              "      <th>EU_Sales</th>\n",
              "      <th>JP_Sales</th>\n",
              "      <th>Other_Sales</th>\n",
              "      <th>Global_Sales</th>\n",
              "    </tr>\n",
              "  </thead>\n",
              "  <tbody>\n",
              "    <tr>\n",
              "      <th>0</th>\n",
              "      <td>1</td>\n",
              "      <td>Wii Sports</td>\n",
              "      <td>Wii</td>\n",
              "      <td>2006.0</td>\n",
              "      <td>Sports</td>\n",
              "      <td>Nintendo</td>\n",
              "      <td>41.49</td>\n",
              "      <td>29.02</td>\n",
              "      <td>3.77</td>\n",
              "      <td>8.46</td>\n",
              "      <td>82.74</td>\n",
              "    </tr>\n",
              "    <tr>\n",
              "      <th>1</th>\n",
              "      <td>2</td>\n",
              "      <td>Super Mario Bros.</td>\n",
              "      <td>NES</td>\n",
              "      <td>1985.0</td>\n",
              "      <td>Platform</td>\n",
              "      <td>Nintendo</td>\n",
              "      <td>29.08</td>\n",
              "      <td>3.58</td>\n",
              "      <td>6.81</td>\n",
              "      <td>0.77</td>\n",
              "      <td>40.24</td>\n",
              "    </tr>\n",
              "    <tr>\n",
              "      <th>2</th>\n",
              "      <td>3</td>\n",
              "      <td>Mario Kart Wii</td>\n",
              "      <td>Wii</td>\n",
              "      <td>2008.0</td>\n",
              "      <td>Racing</td>\n",
              "      <td>Nintendo</td>\n",
              "      <td>15.85</td>\n",
              "      <td>12.88</td>\n",
              "      <td>3.79</td>\n",
              "      <td>3.31</td>\n",
              "      <td>35.82</td>\n",
              "    </tr>\n",
              "    <tr>\n",
              "      <th>3</th>\n",
              "      <td>4</td>\n",
              "      <td>Wii Sports Resort</td>\n",
              "      <td>Wii</td>\n",
              "      <td>2009.0</td>\n",
              "      <td>Sports</td>\n",
              "      <td>Nintendo</td>\n",
              "      <td>15.75</td>\n",
              "      <td>11.01</td>\n",
              "      <td>3.28</td>\n",
              "      <td>2.96</td>\n",
              "      <td>33.00</td>\n",
              "    </tr>\n",
              "    <tr>\n",
              "      <th>4</th>\n",
              "      <td>5</td>\n",
              "      <td>Pokemon Red/Pokemon Blue</td>\n",
              "      <td>GB</td>\n",
              "      <td>1996.0</td>\n",
              "      <td>Role-Playing</td>\n",
              "      <td>Nintendo</td>\n",
              "      <td>11.27</td>\n",
              "      <td>8.89</td>\n",
              "      <td>10.22</td>\n",
              "      <td>1.00</td>\n",
              "      <td>31.37</td>\n",
              "    </tr>\n",
              "  </tbody>\n",
              "</table>\n",
              "</div>\n",
              "    <div class=\"colab-df-buttons\">\n",
              "\n",
              "  <div class=\"colab-df-container\">\n",
              "    <button class=\"colab-df-convert\" onclick=\"convertToInteractive('df-e7608f34-cbd0-409e-932d-d5ee543d4160')\"\n",
              "            title=\"Convert this dataframe to an interactive table.\"\n",
              "            style=\"display:none;\">\n",
              "\n",
              "  <svg xmlns=\"http://www.w3.org/2000/svg\" height=\"24px\" viewBox=\"0 -960 960 960\">\n",
              "    <path d=\"M120-120v-720h720v720H120Zm60-500h600v-160H180v160Zm220 220h160v-160H400v160Zm0 220h160v-160H400v160ZM180-400h160v-160H180v160Zm440 0h160v-160H620v160ZM180-180h160v-160H180v160Zm440 0h160v-160H620v160Z\"/>\n",
              "  </svg>\n",
              "    </button>\n",
              "\n",
              "  <style>\n",
              "    .colab-df-container {\n",
              "      display:flex;\n",
              "      gap: 12px;\n",
              "    }\n",
              "\n",
              "    .colab-df-convert {\n",
              "      background-color: #E8F0FE;\n",
              "      border: none;\n",
              "      border-radius: 50%;\n",
              "      cursor: pointer;\n",
              "      display: none;\n",
              "      fill: #1967D2;\n",
              "      height: 32px;\n",
              "      padding: 0 0 0 0;\n",
              "      width: 32px;\n",
              "    }\n",
              "\n",
              "    .colab-df-convert:hover {\n",
              "      background-color: #E2EBFA;\n",
              "      box-shadow: 0px 1px 2px rgba(60, 64, 67, 0.3), 0px 1px 3px 1px rgba(60, 64, 67, 0.15);\n",
              "      fill: #174EA6;\n",
              "    }\n",
              "\n",
              "    .colab-df-buttons div {\n",
              "      margin-bottom: 4px;\n",
              "    }\n",
              "\n",
              "    [theme=dark] .colab-df-convert {\n",
              "      background-color: #3B4455;\n",
              "      fill: #D2E3FC;\n",
              "    }\n",
              "\n",
              "    [theme=dark] .colab-df-convert:hover {\n",
              "      background-color: #434B5C;\n",
              "      box-shadow: 0px 1px 3px 1px rgba(0, 0, 0, 0.15);\n",
              "      filter: drop-shadow(0px 1px 2px rgba(0, 0, 0, 0.3));\n",
              "      fill: #FFFFFF;\n",
              "    }\n",
              "  </style>\n",
              "\n",
              "    <script>\n",
              "      const buttonEl =\n",
              "        document.querySelector('#df-e7608f34-cbd0-409e-932d-d5ee543d4160 button.colab-df-convert');\n",
              "      buttonEl.style.display =\n",
              "        google.colab.kernel.accessAllowed ? 'block' : 'none';\n",
              "\n",
              "      async function convertToInteractive(key) {\n",
              "        const element = document.querySelector('#df-e7608f34-cbd0-409e-932d-d5ee543d4160');\n",
              "        const dataTable =\n",
              "          await google.colab.kernel.invokeFunction('convertToInteractive',\n",
              "                                                    [key], {});\n",
              "        if (!dataTable) return;\n",
              "\n",
              "        const docLinkHtml = 'Like what you see? Visit the ' +\n",
              "          '<a target=\"_blank\" href=https://colab.research.google.com/notebooks/data_table.ipynb>data table notebook</a>'\n",
              "          + ' to learn more about interactive tables.';\n",
              "        element.innerHTML = '';\n",
              "        dataTable['output_type'] = 'display_data';\n",
              "        await google.colab.output.renderOutput(dataTable, element);\n",
              "        const docLink = document.createElement('div');\n",
              "        docLink.innerHTML = docLinkHtml;\n",
              "        element.appendChild(docLink);\n",
              "      }\n",
              "    </script>\n",
              "  </div>\n",
              "\n",
              "\n",
              "<div id=\"df-3c2046f6-67ac-440a-9c32-50ae31c24174\">\n",
              "  <button class=\"colab-df-quickchart\" onclick=\"quickchart('df-3c2046f6-67ac-440a-9c32-50ae31c24174')\"\n",
              "            title=\"Suggest charts\"\n",
              "            style=\"display:none;\">\n",
              "\n",
              "<svg xmlns=\"http://www.w3.org/2000/svg\" height=\"24px\"viewBox=\"0 0 24 24\"\n",
              "     width=\"24px\">\n",
              "    <g>\n",
              "        <path d=\"M19 3H5c-1.1 0-2 .9-2 2v14c0 1.1.9 2 2 2h14c1.1 0 2-.9 2-2V5c0-1.1-.9-2-2-2zM9 17H7v-7h2v7zm4 0h-2V7h2v10zm4 0h-2v-4h2v4z\"/>\n",
              "    </g>\n",
              "</svg>\n",
              "  </button>\n",
              "\n",
              "<style>\n",
              "  .colab-df-quickchart {\n",
              "      --bg-color: #E8F0FE;\n",
              "      --fill-color: #1967D2;\n",
              "      --hover-bg-color: #E2EBFA;\n",
              "      --hover-fill-color: #174EA6;\n",
              "      --disabled-fill-color: #AAA;\n",
              "      --disabled-bg-color: #DDD;\n",
              "  }\n",
              "\n",
              "  [theme=dark] .colab-df-quickchart {\n",
              "      --bg-color: #3B4455;\n",
              "      --fill-color: #D2E3FC;\n",
              "      --hover-bg-color: #434B5C;\n",
              "      --hover-fill-color: #FFFFFF;\n",
              "      --disabled-bg-color: #3B4455;\n",
              "      --disabled-fill-color: #666;\n",
              "  }\n",
              "\n",
              "  .colab-df-quickchart {\n",
              "    background-color: var(--bg-color);\n",
              "    border: none;\n",
              "    border-radius: 50%;\n",
              "    cursor: pointer;\n",
              "    display: none;\n",
              "    fill: var(--fill-color);\n",
              "    height: 32px;\n",
              "    padding: 0;\n",
              "    width: 32px;\n",
              "  }\n",
              "\n",
              "  .colab-df-quickchart:hover {\n",
              "    background-color: var(--hover-bg-color);\n",
              "    box-shadow: 0 1px 2px rgba(60, 64, 67, 0.3), 0 1px 3px 1px rgba(60, 64, 67, 0.15);\n",
              "    fill: var(--button-hover-fill-color);\n",
              "  }\n",
              "\n",
              "  .colab-df-quickchart-complete:disabled,\n",
              "  .colab-df-quickchart-complete:disabled:hover {\n",
              "    background-color: var(--disabled-bg-color);\n",
              "    fill: var(--disabled-fill-color);\n",
              "    box-shadow: none;\n",
              "  }\n",
              "\n",
              "  .colab-df-spinner {\n",
              "    border: 2px solid var(--fill-color);\n",
              "    border-color: transparent;\n",
              "    border-bottom-color: var(--fill-color);\n",
              "    animation:\n",
              "      spin 1s steps(1) infinite;\n",
              "  }\n",
              "\n",
              "  @keyframes spin {\n",
              "    0% {\n",
              "      border-color: transparent;\n",
              "      border-bottom-color: var(--fill-color);\n",
              "      border-left-color: var(--fill-color);\n",
              "    }\n",
              "    20% {\n",
              "      border-color: transparent;\n",
              "      border-left-color: var(--fill-color);\n",
              "      border-top-color: var(--fill-color);\n",
              "    }\n",
              "    30% {\n",
              "      border-color: transparent;\n",
              "      border-left-color: var(--fill-color);\n",
              "      border-top-color: var(--fill-color);\n",
              "      border-right-color: var(--fill-color);\n",
              "    }\n",
              "    40% {\n",
              "      border-color: transparent;\n",
              "      border-right-color: var(--fill-color);\n",
              "      border-top-color: var(--fill-color);\n",
              "    }\n",
              "    60% {\n",
              "      border-color: transparent;\n",
              "      border-right-color: var(--fill-color);\n",
              "    }\n",
              "    80% {\n",
              "      border-color: transparent;\n",
              "      border-right-color: var(--fill-color);\n",
              "      border-bottom-color: var(--fill-color);\n",
              "    }\n",
              "    90% {\n",
              "      border-color: transparent;\n",
              "      border-bottom-color: var(--fill-color);\n",
              "    }\n",
              "  }\n",
              "</style>\n",
              "\n",
              "  <script>\n",
              "    async function quickchart(key) {\n",
              "      const quickchartButtonEl =\n",
              "        document.querySelector('#' + key + ' button');\n",
              "      quickchartButtonEl.disabled = true;  // To prevent multiple clicks.\n",
              "      quickchartButtonEl.classList.add('colab-df-spinner');\n",
              "      try {\n",
              "        const charts = await google.colab.kernel.invokeFunction(\n",
              "            'suggestCharts', [key], {});\n",
              "      } catch (error) {\n",
              "        console.error('Error during call to suggestCharts:', error);\n",
              "      }\n",
              "      quickchartButtonEl.classList.remove('colab-df-spinner');\n",
              "      quickchartButtonEl.classList.add('colab-df-quickchart-complete');\n",
              "    }\n",
              "    (() => {\n",
              "      let quickchartButtonEl =\n",
              "        document.querySelector('#df-3c2046f6-67ac-440a-9c32-50ae31c24174 button');\n",
              "      quickchartButtonEl.style.display =\n",
              "        google.colab.kernel.accessAllowed ? 'block' : 'none';\n",
              "    })();\n",
              "  </script>\n",
              "</div>\n",
              "\n",
              "    </div>\n",
              "  </div>\n"
            ]
          },
          "metadata": {},
          "execution_count": 185
        }
      ],
      "source": [
        "#read the video game sales csv into a dataframe\n",
        "game_sales = pd.read_csv(\"vgsales.csv\")\n",
        "#display first 5 rows to see what the data looks like\n",
        "game_sales.head()"
      ]
    },
    {
      "cell_type": "markdown",
      "metadata": {
        "id": "BuQOLjRPeyYE"
      },
      "source": [
        "Right now we should start with cleaning the dataset up a bit, so lets check how many null entries there are"
      ]
    },
    {
      "cell_type": "code",
      "execution_count": 186,
      "metadata": {
        "colab": {
          "base_uri": "https://localhost:8080/"
        },
        "id": "sVfDc4YkeyYE",
        "outputId": "be1ab597-9edc-45d1-e062-4d7f10e51341"
      },
      "outputs": [
        {
          "output_type": "execute_result",
          "data": {
            "text/plain": [
              "Rank              0\n",
              "Name              0\n",
              "Platform          0\n",
              "Year            271\n",
              "Genre             0\n",
              "Publisher        58\n",
              "NA_Sales          0\n",
              "EU_Sales          0\n",
              "JP_Sales          0\n",
              "Other_Sales       0\n",
              "Global_Sales      0\n",
              "dtype: int64"
            ]
          },
          "metadata": {},
          "execution_count": 186
        }
      ],
      "source": [
        "#in here we sum up the number of null entries\n",
        "game_sales.isnull().sum()"
      ]
    },
    {
      "cell_type": "markdown",
      "metadata": {
        "id": "YQkw2kD7eyYE"
      },
      "source": [
        "Looks like there are 271 null entries in year, so we do not know when 271 of the games were release. Additionally, 58 games have an unknown/unreported publisher. This may mess up our data analyzing, so lets just drop the entries with those null values. We are making sure to check that they were dropped."
      ]
    },
    {
      "cell_type": "code",
      "execution_count": 187,
      "metadata": {
        "colab": {
          "base_uri": "https://localhost:8080/"
        },
        "id": "KalpVrEweyYE",
        "outputId": "6605c35f-7e17-438c-f541-90e7addb32c9"
      },
      "outputs": [
        {
          "output_type": "execute_result",
          "data": {
            "text/plain": [
              "Rank            0\n",
              "Name            0\n",
              "Platform        0\n",
              "Year            0\n",
              "Genre           0\n",
              "Publisher       0\n",
              "NA_Sales        0\n",
              "EU_Sales        0\n",
              "JP_Sales        0\n",
              "Other_Sales     0\n",
              "Global_Sales    0\n",
              "dtype: int64"
            ]
          },
          "metadata": {},
          "execution_count": 187
        }
      ],
      "source": [
        "# #in hhere we drop all null values\n",
        "games = game_sales.dropna()\n",
        "#and we check to see if it worked below\n",
        "games.isnull().sum()"
      ]
    },
    {
      "cell_type": "markdown",
      "metadata": {
        "id": "hQjH6yjseyYF"
      },
      "source": [
        "Lets start looking into some basic analysis of the data! Lets first look at some basic summary stats of the data."
      ]
    },
    {
      "cell_type": "code",
      "execution_count": 188,
      "metadata": {
        "colab": {
          "base_uri": "https://localhost:8080/",
          "height": 300
        },
        "id": "RCILDnI2eyYF",
        "outputId": "7accfa3d-c79f-463f-a4ce-c10a56bffab2"
      },
      "outputs": [
        {
          "output_type": "execute_result",
          "data": {
            "text/plain": [
              "               Rank          Year      NA_Sales      EU_Sales      JP_Sales  \\\n",
              "count  16598.000000  16327.000000  16598.000000  16598.000000  16598.000000   \n",
              "mean    8300.605254   2006.406443      0.264667      0.146652      0.077782   \n",
              "std     4791.853933      5.828981      0.816683      0.505351      0.309291   \n",
              "min        1.000000   1980.000000      0.000000      0.000000      0.000000   \n",
              "25%     4151.250000   2003.000000      0.000000      0.000000      0.000000   \n",
              "50%     8300.500000   2007.000000      0.080000      0.020000      0.000000   \n",
              "75%    12449.750000   2010.000000      0.240000      0.110000      0.040000   \n",
              "max    16600.000000   2020.000000     41.490000     29.020000     10.220000   \n",
              "\n",
              "        Other_Sales  Global_Sales  \n",
              "count  16598.000000  16598.000000  \n",
              "mean       0.048063      0.537441  \n",
              "std        0.188588      1.555028  \n",
              "min        0.000000      0.010000  \n",
              "25%        0.000000      0.060000  \n",
              "50%        0.010000      0.170000  \n",
              "75%        0.040000      0.470000  \n",
              "max       10.570000     82.740000  "
            ],
            "text/html": [
              "\n",
              "  <div id=\"df-14942f62-194f-4393-8019-f676844aa090\" class=\"colab-df-container\">\n",
              "    <div>\n",
              "<style scoped>\n",
              "    .dataframe tbody tr th:only-of-type {\n",
              "        vertical-align: middle;\n",
              "    }\n",
              "\n",
              "    .dataframe tbody tr th {\n",
              "        vertical-align: top;\n",
              "    }\n",
              "\n",
              "    .dataframe thead th {\n",
              "        text-align: right;\n",
              "    }\n",
              "</style>\n",
              "<table border=\"1\" class=\"dataframe\">\n",
              "  <thead>\n",
              "    <tr style=\"text-align: right;\">\n",
              "      <th></th>\n",
              "      <th>Rank</th>\n",
              "      <th>Year</th>\n",
              "      <th>NA_Sales</th>\n",
              "      <th>EU_Sales</th>\n",
              "      <th>JP_Sales</th>\n",
              "      <th>Other_Sales</th>\n",
              "      <th>Global_Sales</th>\n",
              "    </tr>\n",
              "  </thead>\n",
              "  <tbody>\n",
              "    <tr>\n",
              "      <th>count</th>\n",
              "      <td>16598.000000</td>\n",
              "      <td>16327.000000</td>\n",
              "      <td>16598.000000</td>\n",
              "      <td>16598.000000</td>\n",
              "      <td>16598.000000</td>\n",
              "      <td>16598.000000</td>\n",
              "      <td>16598.000000</td>\n",
              "    </tr>\n",
              "    <tr>\n",
              "      <th>mean</th>\n",
              "      <td>8300.605254</td>\n",
              "      <td>2006.406443</td>\n",
              "      <td>0.264667</td>\n",
              "      <td>0.146652</td>\n",
              "      <td>0.077782</td>\n",
              "      <td>0.048063</td>\n",
              "      <td>0.537441</td>\n",
              "    </tr>\n",
              "    <tr>\n",
              "      <th>std</th>\n",
              "      <td>4791.853933</td>\n",
              "      <td>5.828981</td>\n",
              "      <td>0.816683</td>\n",
              "      <td>0.505351</td>\n",
              "      <td>0.309291</td>\n",
              "      <td>0.188588</td>\n",
              "      <td>1.555028</td>\n",
              "    </tr>\n",
              "    <tr>\n",
              "      <th>min</th>\n",
              "      <td>1.000000</td>\n",
              "      <td>1980.000000</td>\n",
              "      <td>0.000000</td>\n",
              "      <td>0.000000</td>\n",
              "      <td>0.000000</td>\n",
              "      <td>0.000000</td>\n",
              "      <td>0.010000</td>\n",
              "    </tr>\n",
              "    <tr>\n",
              "      <th>25%</th>\n",
              "      <td>4151.250000</td>\n",
              "      <td>2003.000000</td>\n",
              "      <td>0.000000</td>\n",
              "      <td>0.000000</td>\n",
              "      <td>0.000000</td>\n",
              "      <td>0.000000</td>\n",
              "      <td>0.060000</td>\n",
              "    </tr>\n",
              "    <tr>\n",
              "      <th>50%</th>\n",
              "      <td>8300.500000</td>\n",
              "      <td>2007.000000</td>\n",
              "      <td>0.080000</td>\n",
              "      <td>0.020000</td>\n",
              "      <td>0.000000</td>\n",
              "      <td>0.010000</td>\n",
              "      <td>0.170000</td>\n",
              "    </tr>\n",
              "    <tr>\n",
              "      <th>75%</th>\n",
              "      <td>12449.750000</td>\n",
              "      <td>2010.000000</td>\n",
              "      <td>0.240000</td>\n",
              "      <td>0.110000</td>\n",
              "      <td>0.040000</td>\n",
              "      <td>0.040000</td>\n",
              "      <td>0.470000</td>\n",
              "    </tr>\n",
              "    <tr>\n",
              "      <th>max</th>\n",
              "      <td>16600.000000</td>\n",
              "      <td>2020.000000</td>\n",
              "      <td>41.490000</td>\n",
              "      <td>29.020000</td>\n",
              "      <td>10.220000</td>\n",
              "      <td>10.570000</td>\n",
              "      <td>82.740000</td>\n",
              "    </tr>\n",
              "  </tbody>\n",
              "</table>\n",
              "</div>\n",
              "    <div class=\"colab-df-buttons\">\n",
              "\n",
              "  <div class=\"colab-df-container\">\n",
              "    <button class=\"colab-df-convert\" onclick=\"convertToInteractive('df-14942f62-194f-4393-8019-f676844aa090')\"\n",
              "            title=\"Convert this dataframe to an interactive table.\"\n",
              "            style=\"display:none;\">\n",
              "\n",
              "  <svg xmlns=\"http://www.w3.org/2000/svg\" height=\"24px\" viewBox=\"0 -960 960 960\">\n",
              "    <path d=\"M120-120v-720h720v720H120Zm60-500h600v-160H180v160Zm220 220h160v-160H400v160Zm0 220h160v-160H400v160ZM180-400h160v-160H180v160Zm440 0h160v-160H620v160ZM180-180h160v-160H180v160Zm440 0h160v-160H620v160Z\"/>\n",
              "  </svg>\n",
              "    </button>\n",
              "\n",
              "  <style>\n",
              "    .colab-df-container {\n",
              "      display:flex;\n",
              "      gap: 12px;\n",
              "    }\n",
              "\n",
              "    .colab-df-convert {\n",
              "      background-color: #E8F0FE;\n",
              "      border: none;\n",
              "      border-radius: 50%;\n",
              "      cursor: pointer;\n",
              "      display: none;\n",
              "      fill: #1967D2;\n",
              "      height: 32px;\n",
              "      padding: 0 0 0 0;\n",
              "      width: 32px;\n",
              "    }\n",
              "\n",
              "    .colab-df-convert:hover {\n",
              "      background-color: #E2EBFA;\n",
              "      box-shadow: 0px 1px 2px rgba(60, 64, 67, 0.3), 0px 1px 3px 1px rgba(60, 64, 67, 0.15);\n",
              "      fill: #174EA6;\n",
              "    }\n",
              "\n",
              "    .colab-df-buttons div {\n",
              "      margin-bottom: 4px;\n",
              "    }\n",
              "\n",
              "    [theme=dark] .colab-df-convert {\n",
              "      background-color: #3B4455;\n",
              "      fill: #D2E3FC;\n",
              "    }\n",
              "\n",
              "    [theme=dark] .colab-df-convert:hover {\n",
              "      background-color: #434B5C;\n",
              "      box-shadow: 0px 1px 3px 1px rgba(0, 0, 0, 0.15);\n",
              "      filter: drop-shadow(0px 1px 2px rgba(0, 0, 0, 0.3));\n",
              "      fill: #FFFFFF;\n",
              "    }\n",
              "  </style>\n",
              "\n",
              "    <script>\n",
              "      const buttonEl =\n",
              "        document.querySelector('#df-14942f62-194f-4393-8019-f676844aa090 button.colab-df-convert');\n",
              "      buttonEl.style.display =\n",
              "        google.colab.kernel.accessAllowed ? 'block' : 'none';\n",
              "\n",
              "      async function convertToInteractive(key) {\n",
              "        const element = document.querySelector('#df-14942f62-194f-4393-8019-f676844aa090');\n",
              "        const dataTable =\n",
              "          await google.colab.kernel.invokeFunction('convertToInteractive',\n",
              "                                                    [key], {});\n",
              "        if (!dataTable) return;\n",
              "\n",
              "        const docLinkHtml = 'Like what you see? Visit the ' +\n",
              "          '<a target=\"_blank\" href=https://colab.research.google.com/notebooks/data_table.ipynb>data table notebook</a>'\n",
              "          + ' to learn more about interactive tables.';\n",
              "        element.innerHTML = '';\n",
              "        dataTable['output_type'] = 'display_data';\n",
              "        await google.colab.output.renderOutput(dataTable, element);\n",
              "        const docLink = document.createElement('div');\n",
              "        docLink.innerHTML = docLinkHtml;\n",
              "        element.appendChild(docLink);\n",
              "      }\n",
              "    </script>\n",
              "  </div>\n",
              "\n",
              "\n",
              "<div id=\"df-daae47bc-a235-448b-9606-acf1387167a4\">\n",
              "  <button class=\"colab-df-quickchart\" onclick=\"quickchart('df-daae47bc-a235-448b-9606-acf1387167a4')\"\n",
              "            title=\"Suggest charts\"\n",
              "            style=\"display:none;\">\n",
              "\n",
              "<svg xmlns=\"http://www.w3.org/2000/svg\" height=\"24px\"viewBox=\"0 0 24 24\"\n",
              "     width=\"24px\">\n",
              "    <g>\n",
              "        <path d=\"M19 3H5c-1.1 0-2 .9-2 2v14c0 1.1.9 2 2 2h14c1.1 0 2-.9 2-2V5c0-1.1-.9-2-2-2zM9 17H7v-7h2v7zm4 0h-2V7h2v10zm4 0h-2v-4h2v4z\"/>\n",
              "    </g>\n",
              "</svg>\n",
              "  </button>\n",
              "\n",
              "<style>\n",
              "  .colab-df-quickchart {\n",
              "      --bg-color: #E8F0FE;\n",
              "      --fill-color: #1967D2;\n",
              "      --hover-bg-color: #E2EBFA;\n",
              "      --hover-fill-color: #174EA6;\n",
              "      --disabled-fill-color: #AAA;\n",
              "      --disabled-bg-color: #DDD;\n",
              "  }\n",
              "\n",
              "  [theme=dark] .colab-df-quickchart {\n",
              "      --bg-color: #3B4455;\n",
              "      --fill-color: #D2E3FC;\n",
              "      --hover-bg-color: #434B5C;\n",
              "      --hover-fill-color: #FFFFFF;\n",
              "      --disabled-bg-color: #3B4455;\n",
              "      --disabled-fill-color: #666;\n",
              "  }\n",
              "\n",
              "  .colab-df-quickchart {\n",
              "    background-color: var(--bg-color);\n",
              "    border: none;\n",
              "    border-radius: 50%;\n",
              "    cursor: pointer;\n",
              "    display: none;\n",
              "    fill: var(--fill-color);\n",
              "    height: 32px;\n",
              "    padding: 0;\n",
              "    width: 32px;\n",
              "  }\n",
              "\n",
              "  .colab-df-quickchart:hover {\n",
              "    background-color: var(--hover-bg-color);\n",
              "    box-shadow: 0 1px 2px rgba(60, 64, 67, 0.3), 0 1px 3px 1px rgba(60, 64, 67, 0.15);\n",
              "    fill: var(--button-hover-fill-color);\n",
              "  }\n",
              "\n",
              "  .colab-df-quickchart-complete:disabled,\n",
              "  .colab-df-quickchart-complete:disabled:hover {\n",
              "    background-color: var(--disabled-bg-color);\n",
              "    fill: var(--disabled-fill-color);\n",
              "    box-shadow: none;\n",
              "  }\n",
              "\n",
              "  .colab-df-spinner {\n",
              "    border: 2px solid var(--fill-color);\n",
              "    border-color: transparent;\n",
              "    border-bottom-color: var(--fill-color);\n",
              "    animation:\n",
              "      spin 1s steps(1) infinite;\n",
              "  }\n",
              "\n",
              "  @keyframes spin {\n",
              "    0% {\n",
              "      border-color: transparent;\n",
              "      border-bottom-color: var(--fill-color);\n",
              "      border-left-color: var(--fill-color);\n",
              "    }\n",
              "    20% {\n",
              "      border-color: transparent;\n",
              "      border-left-color: var(--fill-color);\n",
              "      border-top-color: var(--fill-color);\n",
              "    }\n",
              "    30% {\n",
              "      border-color: transparent;\n",
              "      border-left-color: var(--fill-color);\n",
              "      border-top-color: var(--fill-color);\n",
              "      border-right-color: var(--fill-color);\n",
              "    }\n",
              "    40% {\n",
              "      border-color: transparent;\n",
              "      border-right-color: var(--fill-color);\n",
              "      border-top-color: var(--fill-color);\n",
              "    }\n",
              "    60% {\n",
              "      border-color: transparent;\n",
              "      border-right-color: var(--fill-color);\n",
              "    }\n",
              "    80% {\n",
              "      border-color: transparent;\n",
              "      border-right-color: var(--fill-color);\n",
              "      border-bottom-color: var(--fill-color);\n",
              "    }\n",
              "    90% {\n",
              "      border-color: transparent;\n",
              "      border-bottom-color: var(--fill-color);\n",
              "    }\n",
              "  }\n",
              "</style>\n",
              "\n",
              "  <script>\n",
              "    async function quickchart(key) {\n",
              "      const quickchartButtonEl =\n",
              "        document.querySelector('#' + key + ' button');\n",
              "      quickchartButtonEl.disabled = true;  // To prevent multiple clicks.\n",
              "      quickchartButtonEl.classList.add('colab-df-spinner');\n",
              "      try {\n",
              "        const charts = await google.colab.kernel.invokeFunction(\n",
              "            'suggestCharts', [key], {});\n",
              "      } catch (error) {\n",
              "        console.error('Error during call to suggestCharts:', error);\n",
              "      }\n",
              "      quickchartButtonEl.classList.remove('colab-df-spinner');\n",
              "      quickchartButtonEl.classList.add('colab-df-quickchart-complete');\n",
              "    }\n",
              "    (() => {\n",
              "      let quickchartButtonEl =\n",
              "        document.querySelector('#df-daae47bc-a235-448b-9606-acf1387167a4 button');\n",
              "      quickchartButtonEl.style.display =\n",
              "        google.colab.kernel.accessAllowed ? 'block' : 'none';\n",
              "    })();\n",
              "  </script>\n",
              "</div>\n",
              "\n",
              "    </div>\n",
              "  </div>\n"
            ]
          },
          "metadata": {},
          "execution_count": 188
        }
      ],
      "source": [
        "#so here we see some basic summary stats\n",
        "games = game_sales\n",
        "games.describe()"
      ]
    },
    {
      "cell_type": "markdown",
      "metadata": {
        "id": "ArIXYkzbeyYF"
      },
      "source": [
        "From here, we also look at what data types each variable is"
      ]
    },
    {
      "cell_type": "code",
      "execution_count": 189,
      "metadata": {
        "colab": {
          "base_uri": "https://localhost:8080/"
        },
        "id": "35zDQKRGeyYF",
        "outputId": "3c569b8a-7172-42b0-bee3-b634e3c7e2ef"
      },
      "outputs": [
        {
          "output_type": "stream",
          "name": "stdout",
          "text": [
            "<class 'pandas.core.frame.DataFrame'>\n",
            "RangeIndex: 16598 entries, 0 to 16597\n",
            "Data columns (total 11 columns):\n",
            " #   Column        Non-Null Count  Dtype  \n",
            "---  ------        --------------  -----  \n",
            " 0   Rank          16598 non-null  int64  \n",
            " 1   Name          16598 non-null  object \n",
            " 2   Platform      16598 non-null  object \n",
            " 3   Year          16327 non-null  float64\n",
            " 4   Genre         16598 non-null  object \n",
            " 5   Publisher     16540 non-null  object \n",
            " 6   NA_Sales      16598 non-null  float64\n",
            " 7   EU_Sales      16598 non-null  float64\n",
            " 8   JP_Sales      16598 non-null  float64\n",
            " 9   Other_Sales   16598 non-null  float64\n",
            " 10  Global_Sales  16598 non-null  float64\n",
            "dtypes: float64(6), int64(1), object(4)\n",
            "memory usage: 1.4+ MB\n"
          ]
        }
      ],
      "source": [
        "#and call .info() to see the variable types\n",
        "games.info()"
      ]
    },
    {
      "cell_type": "markdown",
      "metadata": {
        "id": "xHELjZkTeyYF"
      },
      "source": [
        "Note that Platform, Genre, and Publisher are objects (strings). These variables are important to the questions we want to answer using this dataset, so we should consider turning these into individual binary columns based on the number of possible values."
      ]
    },
    {
      "cell_type": "code",
      "execution_count": 190,
      "metadata": {
        "colab": {
          "base_uri": "https://localhost:8080/"
        },
        "id": "1qbmc57WeyYF",
        "outputId": "b6cc2ea5-b64b-4ddb-be74-c4c451e14307"
      },
      "outputs": [
        {
          "output_type": "execute_result",
          "data": {
            "text/plain": [
              "Year\n",
              "1980.0     11.38\n",
              "1981.0     35.77\n",
              "1982.0     28.86\n",
              "1983.0     16.79\n",
              "1984.0     50.36\n",
              "1985.0     53.94\n",
              "1986.0     37.07\n",
              "1987.0     21.74\n",
              "1988.0     47.22\n",
              "1989.0     73.45\n",
              "1990.0     49.39\n",
              "1991.0     32.23\n",
              "1992.0     76.16\n",
              "1993.0     45.98\n",
              "1994.0     79.17\n",
              "1995.0     88.11\n",
              "1996.0    199.15\n",
              "1997.0    200.98\n",
              "1998.0    256.47\n",
              "1999.0    251.27\n",
              "2000.0    201.56\n",
              "2001.0    331.47\n",
              "2002.0    395.52\n",
              "2003.0    357.85\n",
              "2004.0    419.31\n",
              "2005.0    459.94\n",
              "2006.0    521.04\n",
              "2007.0    611.13\n",
              "2008.0    678.90\n",
              "2009.0    667.30\n",
              "2010.0    600.45\n",
              "2011.0    515.99\n",
              "2012.0    363.54\n",
              "2013.0    368.11\n",
              "2014.0    337.05\n",
              "2015.0    264.44\n",
              "2016.0     70.93\n",
              "2017.0      0.05\n",
              "2020.0      0.29\n",
              "Name: Global_Sales, dtype: float64"
            ]
          },
          "metadata": {},
          "execution_count": 190
        }
      ],
      "source": [
        "games.groupby('Year')['Global_Sales'].sum()"
      ]
    },
    {
      "cell_type": "code",
      "execution_count": 191,
      "metadata": {
        "colab": {
          "base_uri": "https://localhost:8080/"
        },
        "id": "ETfy0c3OeyYF",
        "outputId": "74c2f0bb-e6fe-4813-e753-f08994dc8231"
      },
      "outputs": [
        {
          "output_type": "execute_result",
          "data": {
            "text/plain": [
              "2008.0"
            ]
          },
          "metadata": {},
          "execution_count": 191
        }
      ],
      "source": [
        "games.groupby('Year').Global_Sales.sum().idxmax()"
      ]
    },
    {
      "cell_type": "code",
      "execution_count": 192,
      "metadata": {
        "colab": {
          "base_uri": "https://localhost:8080/"
        },
        "id": "IpiXZCbveyYF",
        "outputId": "84930521-a22e-4917-cd90-ec889089f642"
      },
      "outputs": [
        {
          "output_type": "execute_result",
          "data": {
            "text/plain": [
              "2017.0"
            ]
          },
          "metadata": {},
          "execution_count": 192
        }
      ],
      "source": [
        "games.groupby('Year').Global_Sales.sum().idxmin()"
      ]
    },
    {
      "cell_type": "code",
      "execution_count": 193,
      "metadata": {
        "colab": {
          "base_uri": "https://localhost:8080/"
        },
        "id": "F88DI8TdeyYF",
        "outputId": "7da30d7c-9e03-48ff-ae02-40945d3739e4"
      },
      "outputs": [
        {
          "output_type": "execute_result",
          "data": {
            "text/plain": [
              "Action          3316\n",
              "Sports          2346\n",
              "Misc            1739\n",
              "Role-Playing    1488\n",
              "Shooter         1310\n",
              "Adventure       1286\n",
              "Racing          1249\n",
              "Platform         886\n",
              "Simulation       867\n",
              "Fighting         848\n",
              "Strategy         681\n",
              "Puzzle           582\n",
              "Name: Genre, dtype: int64"
            ]
          },
          "metadata": {},
          "execution_count": 193
        }
      ],
      "source": [
        "games.Genre.value_counts()"
      ]
    },
    {
      "cell_type": "markdown",
      "metadata": {
        "id": "n8M2XqjseyYG"
      },
      "source": [
        "It is cool to see the year video games sold the best is in 2008, and the worst in 2017, with the genre of action being the best selling."
      ]
    },
    {
      "cell_type": "markdown",
      "metadata": {
        "id": "ieMmzfSFeyYG"
      },
      "source": [
        "Some questions we will investigate with this dataset:\n",
        "\n",
        "1) How does video game popularity vary by region?\n",
        "\n",
        "2) Were genres popular in North America similar to those popular in the EU and Japan?\n",
        "\n",
        "2) How did the popularity of video game genres change over time?\n",
        "\n",
        "3) Why did those changes happen?\n",
        "\n",
        "4) Which year was the highest selling year for video games?\n",
        "\n",
        "Because each row breaks each game's sales down by region, and also includes platform, genre, and year information, we will be able to answer the above questions with this dataset."
      ]
    },
    {
      "cell_type": "markdown",
      "metadata": {
        "id": "oZMX2m6CeyYG"
      },
      "source": [
        "From here, we want to see the how video games sales differ with year and location"
      ]
    },
    {
      "cell_type": "code",
      "execution_count": 194,
      "metadata": {
        "colab": {
          "base_uri": "https://localhost:8080/",
          "height": 741
        },
        "id": "5jzdwD-teyYG",
        "outputId": "d4f1bd32-14c5-4d1b-91f4-e1cdb25f2a67"
      },
      "outputs": [
        {
          "output_type": "display_data",
          "data": {
            "text/plain": [
              "<Figure size 1800x1000 with 2 Axes>"
            ],
            "image/png": "[encoded data removed]"
          },
          "metadata": {}
        }
      ],
      "source": [
        "#rename columns for regions to be more intuitive\n",
        "games = games.rename(columns={'Other_Sales': \"Other\", \"JP_Sales\": \"Japan\", \"EU_Sales\":\"Europe\", \"NA_Sales\":\"North America\"})\n",
        "#group the global sales by year to see sales by year\n",
        "years = games.groupby('Year')['Global_Sales'].sum()\n",
        "#drop every column except for region, so we get sales per region\n",
        "location = games.drop(columns=[\"Rank\", \"Year\", \"Global_Sales\", \"Platform\", \"Name\", \"Genre\", \"Publisher\"]).sum()\n",
        "\n",
        "#create sbplots to plot two plots at the same time\n",
        "fig, (ax1, ax2) = plt.subplots(1, 2, figsize = (18,10))\n",
        "fig.suptitle('Video Game Sales Compared to Time and Region')\n",
        "\n",
        "years.plot(kind = 'barh', color = sns.color_palette(\"pastel\"), title = \"Video Game Sales by Year\", ax = ax1)\n",
        "ax1.set_xlabel(\"Total Sales (Millions)\")\n",
        "ax1.set_ylabel(\"Year\")\n",
        "location.plot(kind = 'barh', color = sns.color_palette(\"pastel\"), title = \"Video Game Sales by Region\", ax = ax2)\n",
        "ax2.set_xlabel(\"Total Sales (Millions)\")\n",
        "ax2.set_ylabel(\"Region\")\n",
        "\n",
        "g = games\n",
        "# fig.savefig('name.png')\n",
        "# files.download('name.png')\n"
      ]
    },
    {
      "cell_type": "markdown",
      "metadata": {
        "id": "rrWdvDZ8eyYG"
      },
      "source": [
        "This is very interesting. It seems like 2008 had the most sales worldwide for video games, whereas 2017 had very little sales. Comapred to other regions, it seems North America has a lot more sales over the last 20 or so years compared to other regions. This sort of makes sense though, as North America is the largeset region."
      ]
    },
    {
      "cell_type": "markdown",
      "metadata": {
        "id": "oeokEsRyeyYF"
      },
      "source": [
        "The following histogram shows the distribution of games over time. It is easy to see how the number of video games on the market skyrocketed starting around 1996, why does that occur?"
      ]
    },
    {
      "cell_type": "markdown",
      "metadata": {
        "id": "eYsPH45_eyYG"
      },
      "source": [
        "looking at the grpah above more closely, it looks like there was a sudden spike in 1996 to video game sales, I wonder why? Lets look into the consoles that had the most sales in 1996."
      ]
    },
    {
      "cell_type": "code",
      "execution_count": 195,
      "metadata": {
        "colab": {
          "base_uri": "https://localhost:8080/",
          "height": 985
        },
        "id": "NZRKwF6heyYG",
        "outputId": "780e6f0b-5db1-465a-d2d6-b0d398e26209"
      },
      "outputs": [
        {
          "output_type": "stream",
          "name": "stderr",
          "text": [
            "<ipython-input-195-e30a65e35277>:2: FutureWarning: The default value of numeric_only in DataFrameGroupBy.sum is deprecated. In a future version, numeric_only will default to False. Either specify numeric_only or select only columns which should be valid for the function.\n",
            "  n96 = n96.groupby(\"Publisher\").sum()\n"
          ]
        },
        {
          "output_type": "execute_result",
          "data": {
            "text/plain": [
              "Text(0, 0.5, 'Publisher')"
            ]
          },
          "metadata": {},
          "execution_count": 195
        },
        {
          "output_type": "display_data",
          "data": {
            "text/plain": [
              "<Figure size 1800x1000 with 1 Axes>"
            ],
            "image/png": "[encoded data removed]"
          },
          "metadata": {}
        }
      ],
      "source": [
        "n96 = games[games.Year == 1996]\n",
        "n96 = n96.groupby(\"Publisher\").sum()\n",
        "n96 = n96.Global_Sales.sort_values()\n",
        "\n",
        "fig, (ax1) = plt.subplots(1, 1, figsize = (18,10))\n",
        "fig.suptitle('Video Game Sales in 1996')\n",
        "n96 = n96.sort_values(ascending=False)\n",
        "n96= n96[:10]\n",
        "n96.plot(kind = 'bar', color = sns.color_palette(\"pastel\"), title = \"Video Game Sales by Company\", ax = ax1)\n",
        "ax1.set_xlabel(\"Total Sales (Millions)\")\n",
        "ax1.set_ylabel(\"Publisher\")\n"
      ]
    },
    {
      "cell_type": "markdown",
      "metadata": {
        "id": "LPyc94IZeyYG"
      },
      "source": [
        "It looks like there Nintendo blows all the other companies out of the water! Granted, Nintendo is one of the biggest game companies, but to out preform even Sony this much, something must have happend. After a quick google search, it looks like **1996 was the year the Nintendo n64 released,as well as pokemon red and blue releasing**, which means Nintendo with the new 3D console and popular games, it should be the most popular publisher this year."
      ]
    },
    {
      "cell_type": "code",
      "execution_count": 196,
      "metadata": {
        "id": "Ah0inKAQrcfx"
      },
      "outputs": [],
      "source": [
        "%%capture\n",
        "\n",
        "#we know nintendo was most popular, so now we see what nintendo games sold the best\n",
        "platform = games.loc[games.Publisher == \"Nintendo\"]\n",
        "platform.drop(columns=[\"Rank\", 'Other', 'Europe', \"North America\", \"Japan\"], inplace=True)\n",
        "platform = platform[platform.Year == 1996]\n",
        "platform = platform.groupby(\"Platform\")"
      ]
    },
    {
      "cell_type": "code",
      "execution_count": 197,
      "metadata": {
        "colab": {
          "base_uri": "https://localhost:8080/",
          "height": 488
        },
        "id": "Z5FQMAZ3uPtn",
        "outputId": "b6ee30b1-4478-4f01-88a8-b38a32aa3396"
      },
      "outputs": [
        {
          "output_type": "execute_result",
          "data": {
            "text/plain": [
              "                                                   Name Platform    Year  \\\n",
              "4                              Pokemon Red/Pokemon Blue       GB  1996.0   \n",
              "46                                       Super Mario 64      N64  1996.0   \n",
              "63                                        Mario Kart 64      N64  1996.0   \n",
              "372   Donkey Kong Country 3: Dixie Kong's Double Tro...     SNES  1996.0   \n",
              "484                                        Wave Race 64      N64  1996.0   \n",
              "574                    Star Wars: Shadows of the Empire      N64  1996.0   \n",
              "672                                 Donkey Kong Land II       GB  1996.0   \n",
              "762          Super Mario RPG: Legend of the Seven Stars     SNES  1996.0   \n",
              "1020                                        Cruis'n USA      N64  1996.0   \n",
              "1336                                   Kirby Super Star     SNES  1996.0   \n",
              "3485                       Fire Emblem: Seisen no Keifu     SNES  1996.0   \n",
              "5272                                          Picross 2       GB  1996.0   \n",
              "7120                                      Tetris Attack       GB  1996.0   \n",
              "8426                             Street Fighter Alpha 2     SNES  1996.0   \n",
              "\n",
              "             Genre Publisher  Global_Sales  \n",
              "4     Role-Playing  Nintendo         31.37  \n",
              "46        Platform  Nintendo         11.89  \n",
              "63          Racing  Nintendo          9.87  \n",
              "372       Platform  Nintendo          3.51  \n",
              "484         Racing  Nintendo          2.94  \n",
              "574         Action  Nintendo          2.65  \n",
              "672       Platform  Nintendo          2.35  \n",
              "762   Role-Playing  Nintendo          2.14  \n",
              "1020        Racing  Nintendo          1.74  \n",
              "1336      Platform  Nintendo          1.44  \n",
              "3485      Strategy  Nintendo          0.58  \n",
              "5272        Puzzle  Nintendo          0.35  \n",
              "7120        Puzzle  Nintendo          0.23  \n",
              "8426      Fighting  Nintendo          0.17  "
            ],
            "text/html": [
              "\n",
              "  <div id=\"df-7b78cb7c-53fe-44ec-801d-8edd45c57399\" class=\"colab-df-container\">\n",
              "    <div>\n",
              "<style scoped>\n",
              "    .dataframe tbody tr th:only-of-type {\n",
              "        vertical-align: middle;\n",
              "    }\n",
              "\n",
              "    .dataframe tbody tr th {\n",
              "        vertical-align: top;\n",
              "    }\n",
              "\n",
              "    .dataframe thead th {\n",
              "        text-align: right;\n",
              "    }\n",
              "</style>\n",
              "<table border=\"1\" class=\"dataframe\">\n",
              "  <thead>\n",
              "    <tr style=\"text-align: right;\">\n",
              "      <th></th>\n",
              "      <th>Name</th>\n",
              "      <th>Platform</th>\n",
              "      <th>Year</th>\n",
              "      <th>Genre</th>\n",
              "      <th>Publisher</th>\n",
              "      <th>Global_Sales</th>\n",
              "    </tr>\n",
              "  </thead>\n",
              "  <tbody>\n",
              "    <tr>\n",
              "      <th>4</th>\n",
              "      <td>Pokemon Red/Pokemon Blue</td>\n",
              "      <td>GB</td>\n",
              "      <td>1996.0</td>\n",
              "      <td>Role-Playing</td>\n",
              "      <td>Nintendo</td>\n",
              "      <td>31.37</td>\n",
              "    </tr>\n",
              "    <tr>\n",
              "      <th>46</th>\n",
              "      <td>Super Mario 64</td>\n",
              "      <td>N64</td>\n",
              "      <td>1996.0</td>\n",
              "      <td>Platform</td>\n",
              "      <td>Nintendo</td>\n",
              "      <td>11.89</td>\n",
              "    </tr>\n",
              "    <tr>\n",
              "      <th>63</th>\n",
              "      <td>Mario Kart 64</td>\n",
              "      <td>N64</td>\n",
              "      <td>1996.0</td>\n",
              "      <td>Racing</td>\n",
              "      <td>Nintendo</td>\n",
              "      <td>9.87</td>\n",
              "    </tr>\n",
              "    <tr>\n",
              "      <th>372</th>\n",
              "      <td>Donkey Kong Country 3: Dixie Kong's Double Tro...</td>\n",
              "      <td>SNES</td>\n",
              "      <td>1996.0</td>\n",
              "      <td>Platform</td>\n",
              "      <td>Nintendo</td>\n",
              "      <td>3.51</td>\n",
              "    </tr>\n",
              "    <tr>\n",
              "      <th>484</th>\n",
              "      <td>Wave Race 64</td>\n",
              "      <td>N64</td>\n",
              "      <td>1996.0</td>\n",
              "      <td>Racing</td>\n",
              "      <td>Nintendo</td>\n",
              "      <td>2.94</td>\n",
              "    </tr>\n",
              "    <tr>\n",
              "      <th>574</th>\n",
              "      <td>Star Wars: Shadows of the Empire</td>\n",
              "      <td>N64</td>\n",
              "      <td>1996.0</td>\n",
              "      <td>Action</td>\n",
              "      <td>Nintendo</td>\n",
              "      <td>2.65</td>\n",
              "    </tr>\n",
              "    <tr>\n",
              "      <th>672</th>\n",
              "      <td>Donkey Kong Land II</td>\n",
              "      <td>GB</td>\n",
              "      <td>1996.0</td>\n",
              "      <td>Platform</td>\n",
              "      <td>Nintendo</td>\n",
              "      <td>2.35</td>\n",
              "    </tr>\n",
              "    <tr>\n",
              "      <th>762</th>\n",
              "      <td>Super Mario RPG: Legend of the Seven Stars</td>\n",
              "      <td>SNES</td>\n",
              "      <td>1996.0</td>\n",
              "      <td>Role-Playing</td>\n",
              "      <td>Nintendo</td>\n",
              "      <td>2.14</td>\n",
              "    </tr>\n",
              "    <tr>\n",
              "      <th>1020</th>\n",
              "      <td>Cruis'n USA</td>\n",
              "      <td>N64</td>\n",
              "      <td>1996.0</td>\n",
              "      <td>Racing</td>\n",
              "      <td>Nintendo</td>\n",
              "      <td>1.74</td>\n",
              "    </tr>\n",
              "    <tr>\n",
              "      <th>1336</th>\n",
              "      <td>Kirby Super Star</td>\n",
              "      <td>SNES</td>\n",
              "      <td>1996.0</td>\n",
              "      <td>Platform</td>\n",
              "      <td>Nintendo</td>\n",
              "      <td>1.44</td>\n",
              "    </tr>\n",
              "    <tr>\n",
              "      <th>3485</th>\n",
              "      <td>Fire Emblem: Seisen no Keifu</td>\n",
              "      <td>SNES</td>\n",
              "      <td>1996.0</td>\n",
              "      <td>Strategy</td>\n",
              "      <td>Nintendo</td>\n",
              "      <td>0.58</td>\n",
              "    </tr>\n",
              "    <tr>\n",
              "      <th>5272</th>\n",
              "      <td>Picross 2</td>\n",
              "      <td>GB</td>\n",
              "      <td>1996.0</td>\n",
              "      <td>Puzzle</td>\n",
              "      <td>Nintendo</td>\n",
              "      <td>0.35</td>\n",
              "    </tr>\n",
              "    <tr>\n",
              "      <th>7120</th>\n",
              "      <td>Tetris Attack</td>\n",
              "      <td>GB</td>\n",
              "      <td>1996.0</td>\n",
              "      <td>Puzzle</td>\n",
              "      <td>Nintendo</td>\n",
              "      <td>0.23</td>\n",
              "    </tr>\n",
              "    <tr>\n",
              "      <th>8426</th>\n",
              "      <td>Street Fighter Alpha 2</td>\n",
              "      <td>SNES</td>\n",
              "      <td>1996.0</td>\n",
              "      <td>Fighting</td>\n",
              "      <td>Nintendo</td>\n",
              "      <td>0.17</td>\n",
              "    </tr>\n",
              "  </tbody>\n",
              "</table>\n",
              "</div>\n",
              "    <div class=\"colab-df-buttons\">\n",
              "\n",
              "  <div class=\"colab-df-container\">\n",
              "    <button class=\"colab-df-convert\" onclick=\"convertToInteractive('df-7b78cb7c-53fe-44ec-801d-8edd45c57399')\"\n",
              "            title=\"Convert this dataframe to an interactive table.\"\n",
              "            style=\"display:none;\">\n",
              "\n",
              "  <svg xmlns=\"http://www.w3.org/2000/svg\" height=\"24px\" viewBox=\"0 -960 960 960\">\n",
              "    <path d=\"M120-120v-720h720v720H120Zm60-500h600v-160H180v160Zm220 220h160v-160H400v160Zm0 220h160v-160H400v160ZM180-400h160v-160H180v160Zm440 0h160v-160H620v160ZM180-180h160v-160H180v160Zm440 0h160v-160H620v160Z\"/>\n",
              "  </svg>\n",
              "    </button>\n",
              "\n",
              "  <style>\n",
              "    .colab-df-container {\n",
              "      display:flex;\n",
              "      gap: 12px;\n",
              "    }\n",
              "\n",
              "    .colab-df-convert {\n",
              "      background-color: #E8F0FE;\n",
              "      border: none;\n",
              "      border-radius: 50%;\n",
              "      cursor: pointer;\n",
              "      display: none;\n",
              "      fill: #1967D2;\n",
              "      height: 32px;\n",
              "      padding: 0 0 0 0;\n",
              "      width: 32px;\n",
              "    }\n",
              "\n",
              "    .colab-df-convert:hover {\n",
              "      background-color: #E2EBFA;\n",
              "      box-shadow: 0px 1px 2px rgba(60, 64, 67, 0.3), 0px 1px 3px 1px rgba(60, 64, 67, 0.15);\n",
              "      fill: #174EA6;\n",
              "    }\n",
              "\n",
              "    .colab-df-buttons div {\n",
              "      margin-bottom: 4px;\n",
              "    }\n",
              "\n",
              "    [theme=dark] .colab-df-convert {\n",
              "      background-color: #3B4455;\n",
              "      fill: #D2E3FC;\n",
              "    }\n",
              "\n",
              "    [theme=dark] .colab-df-convert:hover {\n",
              "      background-color: #434B5C;\n",
              "      box-shadow: 0px 1px 3px 1px rgba(0, 0, 0, 0.15);\n",
              "      filter: drop-shadow(0px 1px 2px rgba(0, 0, 0, 0.3));\n",
              "      fill: #FFFFFF;\n",
              "    }\n",
              "  </style>\n",
              "\n",
              "    <script>\n",
              "      const buttonEl =\n",
              "        document.querySelector('#df-7b78cb7c-53fe-44ec-801d-8edd45c57399 button.colab-df-convert');\n",
              "      buttonEl.style.display =\n",
              "        google.colab.kernel.accessAllowed ? 'block' : 'none';\n",
              "\n",
              "      async function convertToInteractive(key) {\n",
              "        const element = document.querySelector('#df-7b78cb7c-53fe-44ec-801d-8edd45c57399');\n",
              "        const dataTable =\n",
              "          await google.colab.kernel.invokeFunction('convertToInteractive',\n",
              "                                                    [key], {});\n",
              "        if (!dataTable) return;\n",
              "\n",
              "        const docLinkHtml = 'Like what you see? Visit the ' +\n",
              "          '<a target=\"_blank\" href=https://colab.research.google.com/notebooks/data_table.ipynb>data table notebook</a>'\n",
              "          + ' to learn more about interactive tables.';\n",
              "        element.innerHTML = '';\n",
              "        dataTable['output_type'] = 'display_data';\n",
              "        await google.colab.output.renderOutput(dataTable, element);\n",
              "        const docLink = document.createElement('div');\n",
              "        docLink.innerHTML = docLinkHtml;\n",
              "        element.appendChild(docLink);\n",
              "      }\n",
              "    </script>\n",
              "  </div>\n",
              "\n",
              "\n",
              "<div id=\"df-6feb95a6-9486-415c-aa64-c085f6012172\">\n",
              "  <button class=\"colab-df-quickchart\" onclick=\"quickchart('df-6feb95a6-9486-415c-aa64-c085f6012172')\"\n",
              "            title=\"Suggest charts\"\n",
              "            style=\"display:none;\">\n",
              "\n",
              "<svg xmlns=\"http://www.w3.org/2000/svg\" height=\"24px\"viewBox=\"0 0 24 24\"\n",
              "     width=\"24px\">\n",
              "    <g>\n",
              "        <path d=\"M19 3H5c-1.1 0-2 .9-2 2v14c0 1.1.9 2 2 2h14c1.1 0 2-.9 2-2V5c0-1.1-.9-2-2-2zM9 17H7v-7h2v7zm4 0h-2V7h2v10zm4 0h-2v-4h2v4z\"/>\n",
              "    </g>\n",
              "</svg>\n",
              "  </button>\n",
              "\n",
              "<style>\n",
              "  .colab-df-quickchart {\n",
              "      --bg-color: #E8F0FE;\n",
              "      --fill-color: #1967D2;\n",
              "      --hover-bg-color: #E2EBFA;\n",
              "      --hover-fill-color: #174EA6;\n",
              "      --disabled-fill-color: #AAA;\n",
              "      --disabled-bg-color: #DDD;\n",
              "  }\n",
              "\n",
              "  [theme=dark] .colab-df-quickchart {\n",
              "      --bg-color: #3B4455;\n",
              "      --fill-color: #D2E3FC;\n",
              "      --hover-bg-color: #434B5C;\n",
              "      --hover-fill-color: #FFFFFF;\n",
              "      --disabled-bg-color: #3B4455;\n",
              "      --disabled-fill-color: #666;\n",
              "  }\n",
              "\n",
              "  .colab-df-quickchart {\n",
              "    background-color: var(--bg-color);\n",
              "    border: none;\n",
              "    border-radius: 50%;\n",
              "    cursor: pointer;\n",
              "    display: none;\n",
              "    fill: var(--fill-color);\n",
              "    height: 32px;\n",
              "    padding: 0;\n",
              "    width: 32px;\n",
              "  }\n",
              "\n",
              "  .colab-df-quickchart:hover {\n",
              "    background-color: var(--hover-bg-color);\n",
              "    box-shadow: 0 1px 2px rgba(60, 64, 67, 0.3), 0 1px 3px 1px rgba(60, 64, 67, 0.15);\n",
              "    fill: var(--button-hover-fill-color);\n",
              "  }\n",
              "\n",
              "  .colab-df-quickchart-complete:disabled,\n",
              "  .colab-df-quickchart-complete:disabled:hover {\n",
              "    background-color: var(--disabled-bg-color);\n",
              "    fill: var(--disabled-fill-color);\n",
              "    box-shadow: none;\n",
              "  }\n",
              "\n",
              "  .colab-df-spinner {\n",
              "    border: 2px solid var(--fill-color);\n",
              "    border-color: transparent;\n",
              "    border-bottom-color: var(--fill-color);\n",
              "    animation:\n",
              "      spin 1s steps(1) infinite;\n",
              "  }\n",
              "\n",
              "  @keyframes spin {\n",
              "    0% {\n",
              "      border-color: transparent;\n",
              "      border-bottom-color: var(--fill-color);\n",
              "      border-left-color: var(--fill-color);\n",
              "    }\n",
              "    20% {\n",
              "      border-color: transparent;\n",
              "      border-left-color: var(--fill-color);\n",
              "      border-top-color: var(--fill-color);\n",
              "    }\n",
              "    30% {\n",
              "      border-color: transparent;\n",
              "      border-left-color: var(--fill-color);\n",
              "      border-top-color: var(--fill-color);\n",
              "      border-right-color: var(--fill-color);\n",
              "    }\n",
              "    40% {\n",
              "      border-color: transparent;\n",
              "      border-right-color: var(--fill-color);\n",
              "      border-top-color: var(--fill-color);\n",
              "    }\n",
              "    60% {\n",
              "      border-color: transparent;\n",
              "      border-right-color: var(--fill-color);\n",
              "    }\n",
              "    80% {\n",
              "      border-color: transparent;\n",
              "      border-right-color: var(--fill-color);\n",
              "      border-bottom-color: var(--fill-color);\n",
              "    }\n",
              "    90% {\n",
              "      border-color: transparent;\n",
              "      border-bottom-color: var(--fill-color);\n",
              "    }\n",
              "  }\n",
              "</style>\n",
              "\n",
              "  <script>\n",
              "    async function quickchart(key) {\n",
              "      const quickchartButtonEl =\n",
              "        document.querySelector('#' + key + ' button');\n",
              "      quickchartButtonEl.disabled = true;  // To prevent multiple clicks.\n",
              "      quickchartButtonEl.classList.add('colab-df-spinner');\n",
              "      try {\n",
              "        const charts = await google.colab.kernel.invokeFunction(\n",
              "            'suggestCharts', [key], {});\n",
              "      } catch (error) {\n",
              "        console.error('Error during call to suggestCharts:', error);\n",
              "      }\n",
              "      quickchartButtonEl.classList.remove('colab-df-spinner');\n",
              "      quickchartButtonEl.classList.add('colab-df-quickchart-complete');\n",
              "    }\n",
              "    (() => {\n",
              "      let quickchartButtonEl =\n",
              "        document.querySelector('#df-6feb95a6-9486-415c-aa64-c085f6012172 button');\n",
              "      quickchartButtonEl.style.display =\n",
              "        google.colab.kernel.accessAllowed ? 'block' : 'none';\n",
              "    })();\n",
              "  </script>\n",
              "</div>\n",
              "\n",
              "    </div>\n",
              "  </div>\n"
            ]
          },
          "metadata": {},
          "execution_count": 197
        }
      ],
      "source": [
        "platform.head()"
      ]
    },
    {
      "cell_type": "markdown",
      "metadata": {
        "id": "8Z-7inqmus6g"
      },
      "source": [
        "Our findings online are confirmed! Pokemon was had the most sales by far, and many of the top sales are N64 Games."
      ]
    },
    {
      "cell_type": "markdown",
      "metadata": {
        "id": "AlF0vB73eyYG"
      },
      "source": [
        "From here, we were wondering if there were any differences in genre popularity in different regions."
      ]
    },
    {
      "cell_type": "code",
      "execution_count": 198,
      "metadata": {
        "colab": {
          "base_uri": "https://localhost:8080/",
          "height": 710
        },
        "id": "Xq21Fh_3eyYG",
        "outputId": "486c4b9c-db97-4cbc-cdf0-33b79f19e23e"
      },
      "outputs": [
        {
          "output_type": "execute_result",
          "data": {
            "text/plain": [
              "Text(0.5, 0, 'Genres')"
            ]
          },
          "metadata": {},
          "execution_count": 198
        },
        {
          "output_type": "display_data",
          "data": {
            "text/plain": [
              "<Figure size 1800x600 with 3 Axes>"
            ],
            "image/png": "[encoded data removed]"
          },
          "metadata": {}
        }
      ],
      "source": [
        "#drop every column except for regions and genre, so we can see genre sales per\n",
        "grouping = games.drop(columns=[\"Rank\", \"Year\", \"Global_Sales\", \"Platform\", \"Name\", \"Publisher\"])\n",
        "genres = grouping.groupby(\"Genre\").sum()\n",
        "\n",
        "#Genre for Japan  = JA, Genre for North America is genre for NA, and so forth\n",
        "JA = genres[\"Japan\"]\n",
        "NA = genres[\"North America\"]\n",
        "EU = genres[\"Europe\"]\n",
        "\n",
        "#create sbplots to plot three plots at the same time\n",
        "fig, (ax1, ax2, ax3) = plt.subplots(1, 3, figsize = (18,6))\n",
        "fig.suptitle('Video Game Sales by Genre in Different Regions')\n",
        "\n",
        "JA.plot(kind = 'bar', color = sns.color_palette(\"tab20\"), title = \"Video Game by Genre in Japan\", ax = ax1)\n",
        "ax1.set_ylabel(\"Total Sales (Millions)\")\n",
        "ax1.set_xlabel(\"Genres\")\n",
        "\n",
        "NA.plot(kind = 'bar', color = sns.color_palette(\"tab20\"), title = \"Video Game by Genre in North America\", ax = ax2)\n",
        "ax2.set_ylabel(\"Total Sales (Millions)\")\n",
        "ax2.set_xlabel(\"Genres\")\n",
        "\n",
        "EU.plot(kind = 'bar', color = sns.color_palette(\"tab20\"), title = \"Video Game by Genre in Europe\", ax = ax3)\n",
        "ax3.set_ylabel(\"Total Sales (Millions)\")\n",
        "ax3.set_xlabel(\"Genres\")\n"
      ]
    },
    {
      "cell_type": "markdown",
      "metadata": {
        "id": "okmr0lpheyYG"
      },
      "source": [
        "It is cool to see that in both Europe and North America, Action is the most popular genre, with sports close behind. However, in Japan, Role-Playing is the most popular by far. I guess different regions have diffrerent likes!"
      ]
    },
    {
      "cell_type": "markdown",
      "metadata": {
        "id": "g-ZECU9zeyYH"
      },
      "source": [
        "## **Dataset 2: Video Game Dataset (https://www.kaggle.com/datasets/jummyegg/rawg-game-dataset?rvi=1)**"
      ]
    },
    {
      "cell_type": "markdown",
      "metadata": {
        "id": "fKcxRQHWeyYH"
      },
      "source": [
        "This dataset contains 474417 video games on over 50 platforms including mobiles. All game information was obtained using Python with RAWG API. This dataset was last updated on Dec 22nd 2020, made by Trung Hoang"
      ]
    },
    {
      "cell_type": "markdown",
      "metadata": {
        "id": "48hK313QeyYH"
      },
      "source": [
        "Fields include:\n",
        "\n",
        "    id: An unique ID identifying this Game in RAWG Database\n",
        "    slug: An unique slug identifying this Game in RAWG Database\n",
        "    name: Name of the game\n",
        "    metacritic: Rating of the game on Metacritic\n",
        "    released: The date the game was released\n",
        "    tba: To be announced state\n",
        "    updated: The date the game was last updated\n",
        "    website: Game Website\n",
        "    rating: Rating rated by RAWG user\n",
        "    rating_top: Maximum rating\n",
        "    playtime: Hours needed to complete the game\n",
        "    achievements_count: Number of achievements in game\n",
        "    ratings_count: Number of RAWG users who rated the game\n",
        "    suggestions_count: Number of RAWG users who suggested the game\n",
        "    game_series_count: Number of games in the series\n",
        "    reviews_count: Number of RAWG users who reviewed the game\n",
        "    platforms: Platforms game was released on. Separated by ||\n",
        "    developers: Game developers. Separated by ||\n",
        "    genres: Game genres. Separated by ||\n",
        "    publishers: Game publishers. Separated by ||\n",
        "    esrb_rating: ESRB ratings\n",
        "    added_status_yet: Number of RAWG users had the game as \"Not played\"\n",
        "    added_status_owned: Number of RAWG users had the game as \"Owned\"\n",
        "    added_status_beaten: Number of RAWG users had the game as \"Completed\"\n",
        "    added_status_toplay: Number of RAWG users had the game as \"To play\"\n",
        "    added_status_dropped: Number of RAWG users had the game as \"Played but not beaten\"\n",
        "    added_status_playing: Number of RAWG users had the game as \"Playing\""
      ]
    },
    {
      "cell_type": "markdown",
      "metadata": {
        "id": "VNjk9K83eyYL"
      },
      "source": [
        "This dataset was interesting to us because it is another dataset on video games. We want to use this to get more info"
      ]
    },
    {
      "cell_type": "code",
      "execution_count": 17,
      "metadata": {
        "colab": {
          "base_uri": "https://localhost:8080/",
          "height": 377
        },
        "id": "ULpfyBR9eyYM",
        "outputId": "e289b3e5-53e5-4c08-9db4-152748fdcb9d"
      },
      "outputs": [
        {
          "output_type": "execute_result",
          "data": {
            "text/plain": [
              "      id            slug                   name  metacritic    released  \\\n",
              "0      1  dgeneration-hd        D/Generation HD         NaN  2015-10-23   \n",
              "1     10         g-prime  G Prime Into The Rain         NaN  2016-01-06   \n",
              "2    100    land-sliders           Land Sliders         NaN  2015-09-24   \n",
              "3   1000      pixel-gear             Pixel Gear         NaN  2016-10-20   \n",
              "4  10000  gods-and-idols         Gods and Idols         NaN  2016-12-12   \n",
              "\n",
              "     tba              updated  \\\n",
              "0  False  2019-09-17T11:58:57   \n",
              "1  False  2019-11-06T23:04:19   \n",
              "2  False  2019-10-22T13:56:16   \n",
              "3  False  2019-08-28T22:16:02   \n",
              "4  False  2019-09-17T13:37:13   \n",
              "\n",
              "                                             website  rating  rating_top  ...  \\\n",
              "0                             http://dgeneration.net     0.0           0  ...   \n",
              "1                                                NaN     0.0           0  ...   \n",
              "2                             http://prettygreat.com     0.0           0  ...   \n",
              "3  https://www.facebook.com/Geronimo-Interactive-...     0.0           0  ...   \n",
              "4                       http://www.godsandidols.com/     0.0           1  ...   \n",
              "\n",
              "                          developers                                genres  \\\n",
              "0                West Coast Software                     Adventure||Puzzle   \n",
              "1                         Soma Games                     Simulation||Indie   \n",
              "2                    Prettygreat Pty                     Adventure||Arcade   \n",
              "3  Oasis Games||Geronimo Interactive                         Action||Indie   \n",
              "4                         Viking Tao  RPG||Strategy||Massively Multiplayer   \n",
              "\n",
              "                              publishers   esrb_rating  added_status_yet  \\\n",
              "0                    West Coast Software  Everyone 10+                 4   \n",
              "1  Immanitas Entertainment||Code-Monkeys      Everyone                 2   \n",
              "2                        Prettygreat Pty  Everyone 10+                 0   \n",
              "3                   Geronimo Interactive          Teen                 0   \n",
              "4                             Viking Tao           NaN                 2   \n",
              "\n",
              "   added_status_owned added_status_beaten added_status_toplay  \\\n",
              "0                  88                   2                   2   \n",
              "1                  42                   2                   0   \n",
              "2                   2                   2                   0   \n",
              "3                   1                   0                   0   \n",
              "4                  79                   0                   0   \n",
              "\n",
              "  added_status_dropped added_status_playing  \n",
              "0                    0                    0  \n",
              "1                    0                    0  \n",
              "2                    1                    0  \n",
              "3                    0                    0  \n",
              "4                    0                    0  \n",
              "\n",
              "[5 rows x 27 columns]"
            ],
            "text/html": [
              "\n",
              "  <div id=\"df-1748ab04-522b-4e0f-8fff-023f6dd7e252\" class=\"colab-df-container\">\n",
              "    <div>\n",
              "<style scoped>\n",
              "    .dataframe tbody tr th:only-of-type {\n",
              "        vertical-align: middle;\n",
              "    }\n",
              "\n",
              "    .dataframe tbody tr th {\n",
              "        vertical-align: top;\n",
              "    }\n",
              "\n",
              "    .dataframe thead th {\n",
              "        text-align: right;\n",
              "    }\n",
              "</style>\n",
              "<table border=\"1\" class=\"dataframe\">\n",
              "  <thead>\n",
              "    <tr style=\"text-align: right;\">\n",
              "      <th></th>\n",
              "      <th>id</th>\n",
              "      <th>slug</th>\n",
              "      <th>name</th>\n",
              "      <th>metacritic</th>\n",
              "      <th>released</th>\n",
              "      <th>tba</th>\n",
              "      <th>updated</th>\n",
              "      <th>website</th>\n",
              "      <th>rating</th>\n",
              "      <th>rating_top</th>\n",
              "      <th>...</th>\n",
              "      <th>developers</th>\n",
              "      <th>genres</th>\n",
              "      <th>publishers</th>\n",
              "      <th>esrb_rating</th>\n",
              "      <th>added_status_yet</th>\n",
              "      <th>added_status_owned</th>\n",
              "      <th>added_status_beaten</th>\n",
              "      <th>added_status_toplay</th>\n",
              "      <th>added_status_dropped</th>\n",
              "      <th>added_status_playing</th>\n",
              "    </tr>\n",
              "  </thead>\n",
              "  <tbody>\n",
              "    <tr>\n",
              "      <th>0</th>\n",
              "      <td>1</td>\n",
              "      <td>dgeneration-hd</td>\n",
              "      <td>D/Generation HD</td>\n",
              "      <td>NaN</td>\n",
              "      <td>2015-10-23</td>\n",
              "      <td>False</td>\n",
              "      <td>2019-09-17T11:58:57</td>\n",
              "      <td>http://dgeneration.net</td>\n",
              "      <td>0.0</td>\n",
              "      <td>0</td>\n",
              "      <td>...</td>\n",
              "      <td>West Coast Software</td>\n",
              "      <td>Adventure||Puzzle</td>\n",
              "      <td>West Coast Software</td>\n",
              "      <td>Everyone 10+</td>\n",
              "      <td>4</td>\n",
              "      <td>88</td>\n",
              "      <td>2</td>\n",
              "      <td>2</td>\n",
              "      <td>0</td>\n",
              "      <td>0</td>\n",
              "    </tr>\n",
              "    <tr>\n",
              "      <th>1</th>\n",
              "      <td>10</td>\n",
              "      <td>g-prime</td>\n",
              "      <td>G Prime Into The Rain</td>\n",
              "      <td>NaN</td>\n",
              "      <td>2016-01-06</td>\n",
              "      <td>False</td>\n",
              "      <td>2019-11-06T23:04:19</td>\n",
              "      <td>NaN</td>\n",
              "      <td>0.0</td>\n",
              "      <td>0</td>\n",
              "      <td>...</td>\n",
              "      <td>Soma Games</td>\n",
              "      <td>Simulation||Indie</td>\n",
              "      <td>Immanitas Entertainment||Code-Monkeys</td>\n",
              "      <td>Everyone</td>\n",
              "      <td>2</td>\n",
              "      <td>42</td>\n",
              "      <td>2</td>\n",
              "      <td>0</td>\n",
              "      <td>0</td>\n",
              "      <td>0</td>\n",
              "    </tr>\n",
              "    <tr>\n",
              "      <th>2</th>\n",
              "      <td>100</td>\n",
              "      <td>land-sliders</td>\n",
              "      <td>Land Sliders</td>\n",
              "      <td>NaN</td>\n",
              "      <td>2015-09-24</td>\n",
              "      <td>False</td>\n",
              "      <td>2019-10-22T13:56:16</td>\n",
              "      <td>http://prettygreat.com</td>\n",
              "      <td>0.0</td>\n",
              "      <td>0</td>\n",
              "      <td>...</td>\n",
              "      <td>Prettygreat Pty</td>\n",
              "      <td>Adventure||Arcade</td>\n",
              "      <td>Prettygreat Pty</td>\n",
              "      <td>Everyone 10+</td>\n",
              "      <td>0</td>\n",
              "      <td>2</td>\n",
              "      <td>2</td>\n",
              "      <td>0</td>\n",
              "      <td>1</td>\n",
              "      <td>0</td>\n",
              "    </tr>\n",
              "    <tr>\n",
              "      <th>3</th>\n",
              "      <td>1000</td>\n",
              "      <td>pixel-gear</td>\n",
              "      <td>Pixel Gear</td>\n",
              "      <td>NaN</td>\n",
              "      <td>2016-10-20</td>\n",
              "      <td>False</td>\n",
              "      <td>2019-08-28T22:16:02</td>\n",
              "      <td>https://www.facebook.com/Geronimo-Interactive-...</td>\n",
              "      <td>0.0</td>\n",
              "      <td>0</td>\n",
              "      <td>...</td>\n",
              "      <td>Oasis Games||Geronimo Interactive</td>\n",
              "      <td>Action||Indie</td>\n",
              "      <td>Geronimo Interactive</td>\n",
              "      <td>Teen</td>\n",
              "      <td>0</td>\n",
              "      <td>1</td>\n",
              "      <td>0</td>\n",
              "      <td>0</td>\n",
              "      <td>0</td>\n",
              "      <td>0</td>\n",
              "    </tr>\n",
              "    <tr>\n",
              "      <th>4</th>\n",
              "      <td>10000</td>\n",
              "      <td>gods-and-idols</td>\n",
              "      <td>Gods and Idols</td>\n",
              "      <td>NaN</td>\n",
              "      <td>2016-12-12</td>\n",
              "      <td>False</td>\n",
              "      <td>2019-09-17T13:37:13</td>\n",
              "      <td>http://www.godsandidols.com/</td>\n",
              "      <td>0.0</td>\n",
              "      <td>1</td>\n",
              "      <td>...</td>\n",
              "      <td>Viking Tao</td>\n",
              "      <td>RPG||Strategy||Massively Multiplayer</td>\n",
              "      <td>Viking Tao</td>\n",
              "      <td>NaN</td>\n",
              "      <td>2</td>\n",
              "      <td>79</td>\n",
              "      <td>0</td>\n",
              "      <td>0</td>\n",
              "      <td>0</td>\n",
              "      <td>0</td>\n",
              "    </tr>\n",
              "  </tbody>\n",
              "</table>\n",
              "<p>5 rows × 27 columns</p>\n",
              "</div>\n",
              "    <div class=\"colab-df-buttons\">\n",
              "\n",
              "  <div class=\"colab-df-container\">\n",
              "    <button class=\"colab-df-convert\" onclick=\"convertToInteractive('df-1748ab04-522b-4e0f-8fff-023f6dd7e252')\"\n",
              "            title=\"Convert this dataframe to an interactive table.\"\n",
              "            style=\"display:none;\">\n",
              "\n",
              "  <svg xmlns=\"http://www.w3.org/2000/svg\" height=\"24px\" viewBox=\"0 -960 960 960\">\n",
              "    <path d=\"M120-120v-720h720v720H120Zm60-500h600v-160H180v160Zm220 220h160v-160H400v160Zm0 220h160v-160H400v160ZM180-400h160v-160H180v160Zm440 0h160v-160H620v160ZM180-180h160v-160H180v160Zm440 0h160v-160H620v160Z\"/>\n",
              "  </svg>\n",
              "    </button>\n",
              "\n",
              "  <style>\n",
              "    .colab-df-container {\n",
              "      display:flex;\n",
              "      gap: 12px;\n",
              "    }\n",
              "\n",
              "    .colab-df-convert {\n",
              "      background-color: #E8F0FE;\n",
              "      border: none;\n",
              "      border-radius: 50%;\n",
              "      cursor: pointer;\n",
              "      display: none;\n",
              "      fill: #1967D2;\n",
              "      height: 32px;\n",
              "      padding: 0 0 0 0;\n",
              "      width: 32px;\n",
              "    }\n",
              "\n",
              "    .colab-df-convert:hover {\n",
              "      background-color: #E2EBFA;\n",
              "      box-shadow: 0px 1px 2px rgba(60, 64, 67, 0.3), 0px 1px 3px 1px rgba(60, 64, 67, 0.15);\n",
              "      fill: #174EA6;\n",
              "    }\n",
              "\n",
              "    .colab-df-buttons div {\n",
              "      margin-bottom: 4px;\n",
              "    }\n",
              "\n",
              "    [theme=dark] .colab-df-convert {\n",
              "      background-color: #3B4455;\n",
              "      fill: #D2E3FC;\n",
              "    }\n",
              "\n",
              "    [theme=dark] .colab-df-convert:hover {\n",
              "      background-color: #434B5C;\n",
              "      box-shadow: 0px 1px 3px 1px rgba(0, 0, 0, 0.15);\n",
              "      filter: drop-shadow(0px 1px 2px rgba(0, 0, 0, 0.3));\n",
              "      fill: #FFFFFF;\n",
              "    }\n",
              "  </style>\n",
              "\n",
              "    <script>\n",
              "      const buttonEl =\n",
              "        document.querySelector('#df-1748ab04-522b-4e0f-8fff-023f6dd7e252 button.colab-df-convert');\n",
              "      buttonEl.style.display =\n",
              "        google.colab.kernel.accessAllowed ? 'block' : 'none';\n",
              "\n",
              "      async function convertToInteractive(key) {\n",
              "        const element = document.querySelector('#df-1748ab04-522b-4e0f-8fff-023f6dd7e252');\n",
              "        const dataTable =\n",
              "          await google.colab.kernel.invokeFunction('convertToInteractive',\n",
              "                                                    [key], {});\n",
              "        if (!dataTable) return;\n",
              "\n",
              "        const docLinkHtml = 'Like what you see? Visit the ' +\n",
              "          '<a target=\"_blank\" href=https://colab.research.google.com/notebooks/data_table.ipynb>data table notebook</a>'\n",
              "          + ' to learn more about interactive tables.';\n",
              "        element.innerHTML = '';\n",
              "        dataTable['output_type'] = 'display_data';\n",
              "        await google.colab.output.renderOutput(dataTable, element);\n",
              "        const docLink = document.createElement('div');\n",
              "        docLink.innerHTML = docLinkHtml;\n",
              "        element.appendChild(docLink);\n",
              "      }\n",
              "    </script>\n",
              "  </div>\n",
              "\n",
              "\n",
              "<div id=\"df-9e9c2ca4-eaa8-4ebe-866e-10ad3ad1dad4\">\n",
              "  <button class=\"colab-df-quickchart\" onclick=\"quickchart('df-9e9c2ca4-eaa8-4ebe-866e-10ad3ad1dad4')\"\n",
              "            title=\"Suggest charts\"\n",
              "            style=\"display:none;\">\n",
              "\n",
              "<svg xmlns=\"http://www.w3.org/2000/svg\" height=\"24px\"viewBox=\"0 0 24 24\"\n",
              "     width=\"24px\">\n",
              "    <g>\n",
              "        <path d=\"M19 3H5c-1.1 0-2 .9-2 2v14c0 1.1.9 2 2 2h14c1.1 0 2-.9 2-2V5c0-1.1-.9-2-2-2zM9 17H7v-7h2v7zm4 0h-2V7h2v10zm4 0h-2v-4h2v4z\"/>\n",
              "    </g>\n",
              "</svg>\n",
              "  </button>\n",
              "\n",
              "<style>\n",
              "  .colab-df-quickchart {\n",
              "      --bg-color: #E8F0FE;\n",
              "      --fill-color: #1967D2;\n",
              "      --hover-bg-color: #E2EBFA;\n",
              "      --hover-fill-color: #174EA6;\n",
              "      --disabled-fill-color: #AAA;\n",
              "      --disabled-bg-color: #DDD;\n",
              "  }\n",
              "\n",
              "  [theme=dark] .colab-df-quickchart {\n",
              "      --bg-color: #3B4455;\n",
              "      --fill-color: #D2E3FC;\n",
              "      --hover-bg-color: #434B5C;\n",
              "      --hover-fill-color: #FFFFFF;\n",
              "      --disabled-bg-color: #3B4455;\n",
              "      --disabled-fill-color: #666;\n",
              "  }\n",
              "\n",
              "  .colab-df-quickchart {\n",
              "    background-color: var(--bg-color);\n",
              "    border: none;\n",
              "    border-radius: 50%;\n",
              "    cursor: pointer;\n",
              "    display: none;\n",
              "    fill: var(--fill-color);\n",
              "    height: 32px;\n",
              "    padding: 0;\n",
              "    width: 32px;\n",
              "  }\n",
              "\n",
              "  .colab-df-quickchart:hover {\n",
              "    background-color: var(--hover-bg-color);\n",
              "    box-shadow: 0 1px 2px rgba(60, 64, 67, 0.3), 0 1px 3px 1px rgba(60, 64, 67, 0.15);\n",
              "    fill: var(--button-hover-fill-color);\n",
              "  }\n",
              "\n",
              "  .colab-df-quickchart-complete:disabled,\n",
              "  .colab-df-quickchart-complete:disabled:hover {\n",
              "    background-color: var(--disabled-bg-color);\n",
              "    fill: var(--disabled-fill-color);\n",
              "    box-shadow: none;\n",
              "  }\n",
              "\n",
              "  .colab-df-spinner {\n",
              "    border: 2px solid var(--fill-color);\n",
              "    border-color: transparent;\n",
              "    border-bottom-color: var(--fill-color);\n",
              "    animation:\n",
              "      spin 1s steps(1) infinite;\n",
              "  }\n",
              "\n",
              "  @keyframes spin {\n",
              "    0% {\n",
              "      border-color: transparent;\n",
              "      border-bottom-color: var(--fill-color);\n",
              "      border-left-color: var(--fill-color);\n",
              "    }\n",
              "    20% {\n",
              "      border-color: transparent;\n",
              "      border-left-color: var(--fill-color);\n",
              "      border-top-color: var(--fill-color);\n",
              "    }\n",
              "    30% {\n",
              "      border-color: transparent;\n",
              "      border-left-color: var(--fill-color);\n",
              "      border-top-color: var(--fill-color);\n",
              "      border-right-color: var(--fill-color);\n",
              "    }\n",
              "    40% {\n",
              "      border-color: transparent;\n",
              "      border-right-color: var(--fill-color);\n",
              "      border-top-color: var(--fill-color);\n",
              "    }\n",
              "    60% {\n",
              "      border-color: transparent;\n",
              "      border-right-color: var(--fill-color);\n",
              "    }\n",
              "    80% {\n",
              "      border-color: transparent;\n",
              "      border-right-color: var(--fill-color);\n",
              "      border-bottom-color: var(--fill-color);\n",
              "    }\n",
              "    90% {\n",
              "      border-color: transparent;\n",
              "      border-bottom-color: var(--fill-color);\n",
              "    }\n",
              "  }\n",
              "</style>\n",
              "\n",
              "  <script>\n",
              "    async function quickchart(key) {\n",
              "      const quickchartButtonEl =\n",
              "        document.querySelector('#' + key + ' button');\n",
              "      quickchartButtonEl.disabled = true;  // To prevent multiple clicks.\n",
              "      quickchartButtonEl.classList.add('colab-df-spinner');\n",
              "      try {\n",
              "        const charts = await google.colab.kernel.invokeFunction(\n",
              "            'suggestCharts', [key], {});\n",
              "      } catch (error) {\n",
              "        console.error('Error during call to suggestCharts:', error);\n",
              "      }\n",
              "      quickchartButtonEl.classList.remove('colab-df-spinner');\n",
              "      quickchartButtonEl.classList.add('colab-df-quickchart-complete');\n",
              "    }\n",
              "    (() => {\n",
              "      let quickchartButtonEl =\n",
              "        document.querySelector('#df-9e9c2ca4-eaa8-4ebe-866e-10ad3ad1dad4 button');\n",
              "      quickchartButtonEl.style.display =\n",
              "        google.colab.kernel.accessAllowed ? 'block' : 'none';\n",
              "    })();\n",
              "  </script>\n",
              "</div>\n",
              "\n",
              "    </div>\n",
              "  </div>\n"
            ]
          },
          "metadata": {},
          "execution_count": 17
        }
      ],
      "source": [
        "gameinfo = pd.read_csv(\"game_info.csv\")\n",
        "gameinfo.head()"
      ]
    },
    {
      "cell_type": "markdown",
      "metadata": {
        "id": "jMJNr5jJeyYM"
      },
      "source": [
        "Lets again see where the null values are"
      ]
    },
    {
      "cell_type": "code",
      "execution_count": 18,
      "metadata": {
        "colab": {
          "base_uri": "https://localhost:8080/"
        },
        "id": "p71_oajseyYM",
        "outputId": "fe2d85ac-04d8-44bb-f771-a15e7b5473f1"
      },
      "outputs": [
        {
          "output_type": "execute_result",
          "data": {
            "text/plain": [
              "id                           0\n",
              "slug                         2\n",
              "name                         2\n",
              "metacritic              469684\n",
              "released                 24199\n",
              "tba                          0\n",
              "updated                      0\n",
              "website                 409376\n",
              "rating                       0\n",
              "rating_top                   0\n",
              "playtime                     0\n",
              "achievements_count           0\n",
              "ratings_count                0\n",
              "suggestions_count            0\n",
              "game_series_count            0\n",
              "reviews_count                0\n",
              "platforms                 3986\n",
              "developers                8366\n",
              "genres                  103185\n",
              "publishers              333384\n",
              "esrb_rating             418553\n",
              "added_status_yet             0\n",
              "added_status_owned           0\n",
              "added_status_beaten          0\n",
              "added_status_toplay          0\n",
              "added_status_dropped         0\n",
              "added_status_playing         0\n",
              "dtype: int64"
            ]
          },
          "metadata": {},
          "execution_count": 18
        }
      ],
      "source": [
        "gameinfo.isnull().sum()"
      ]
    },
    {
      "cell_type": "code",
      "execution_count": 19,
      "metadata": {
        "colab": {
          "base_uri": "https://localhost:8080/",
          "height": 330
        },
        "id": "vQSN2OQQeyYM",
        "outputId": "061260c9-7dcf-49fb-8324-8946ddad9fca"
      },
      "outputs": [
        {
          "output_type": "execute_result",
          "data": {
            "text/plain": [
              "      id                   name  metacritic    released  rating  playtime  \\\n",
              "0      1        D/Generation HD         NaN  2015-10-23     0.0         1   \n",
              "1     10  G Prime Into The Rain         NaN  2016-01-06     0.0         0   \n",
              "2    100           Land Sliders         NaN  2015-09-24     0.0         0   \n",
              "3   1000             Pixel Gear         NaN  2016-10-20     0.0         0   \n",
              "4  10000         Gods and Idols         NaN  2016-12-12     0.0         1   \n",
              "\n",
              "   achievements_count  ratings_count  \\\n",
              "0                  80              2   \n",
              "1                  26              3   \n",
              "2                   0              2   \n",
              "3                   0              0   \n",
              "4                   0              5   \n",
              "\n",
              "                                           platforms  \\\n",
              "0  PC||macOS||Xbox One||PlayStation 4||Nintendo S...   \n",
              "1                                macOS||PC||Xbox One   \n",
              "2                                                iOS   \n",
              "3                                  PC||PlayStation 4   \n",
              "4                                                 PC   \n",
              "\n",
              "                                 genres  added_status_yet  added_status_owned  \\\n",
              "0                     Adventure||Puzzle                 4                  88   \n",
              "1                     Simulation||Indie                 2                  42   \n",
              "2                     Adventure||Arcade                 0                   2   \n",
              "3                         Action||Indie                 0                   1   \n",
              "4  RPG||Strategy||Massively Multiplayer                 2                  79   \n",
              "\n",
              "   added_status_beaten  added_status_toplay  added_status_dropped  \\\n",
              "0                    2                    2                     0   \n",
              "1                    2                    0                     0   \n",
              "2                    2                    0                     1   \n",
              "3                    0                    0                     0   \n",
              "4                    0                    0                     0   \n",
              "\n",
              "   added_status_playing  \n",
              "0                     0  \n",
              "1                     0  \n",
              "2                     0  \n",
              "3                     0  \n",
              "4                     0  "
            ],
            "text/html": [
              "\n",
              "  <div id=\"df-ef4d844e-0055-4422-90cd-76b011d00bbe\" class=\"colab-df-container\">\n",
              "    <div>\n",
              "<style scoped>\n",
              "    .dataframe tbody tr th:only-of-type {\n",
              "        vertical-align: middle;\n",
              "    }\n",
              "\n",
              "    .dataframe tbody tr th {\n",
              "        vertical-align: top;\n",
              "    }\n",
              "\n",
              "    .dataframe thead th {\n",
              "        text-align: right;\n",
              "    }\n",
              "</style>\n",
              "<table border=\"1\" class=\"dataframe\">\n",
              "  <thead>\n",
              "    <tr style=\"text-align: right;\">\n",
              "      <th></th>\n",
              "      <th>id</th>\n",
              "      <th>name</th>\n",
              "      <th>metacritic</th>\n",
              "      <th>released</th>\n",
              "      <th>rating</th>\n",
              "      <th>playtime</th>\n",
              "      <th>achievements_count</th>\n",
              "      <th>ratings_count</th>\n",
              "      <th>platforms</th>\n",
              "      <th>genres</th>\n",
              "      <th>added_status_yet</th>\n",
              "      <th>added_status_owned</th>\n",
              "      <th>added_status_beaten</th>\n",
              "      <th>added_status_toplay</th>\n",
              "      <th>added_status_dropped</th>\n",
              "      <th>added_status_playing</th>\n",
              "    </tr>\n",
              "  </thead>\n",
              "  <tbody>\n",
              "    <tr>\n",
              "      <th>0</th>\n",
              "      <td>1</td>\n",
              "      <td>D/Generation HD</td>\n",
              "      <td>NaN</td>\n",
              "      <td>2015-10-23</td>\n",
              "      <td>0.0</td>\n",
              "      <td>1</td>\n",
              "      <td>80</td>\n",
              "      <td>2</td>\n",
              "      <td>PC||macOS||Xbox One||PlayStation 4||Nintendo S...</td>\n",
              "      <td>Adventure||Puzzle</td>\n",
              "      <td>4</td>\n",
              "      <td>88</td>\n",
              "      <td>2</td>\n",
              "      <td>2</td>\n",
              "      <td>0</td>\n",
              "      <td>0</td>\n",
              "    </tr>\n",
              "    <tr>\n",
              "      <th>1</th>\n",
              "      <td>10</td>\n",
              "      <td>G Prime Into The Rain</td>\n",
              "      <td>NaN</td>\n",
              "      <td>2016-01-06</td>\n",
              "      <td>0.0</td>\n",
              "      <td>0</td>\n",
              "      <td>26</td>\n",
              "      <td>3</td>\n",
              "      <td>macOS||PC||Xbox One</td>\n",
              "      <td>Simulation||Indie</td>\n",
              "      <td>2</td>\n",
              "      <td>42</td>\n",
              "      <td>2</td>\n",
              "      <td>0</td>\n",
              "      <td>0</td>\n",
              "      <td>0</td>\n",
              "    </tr>\n",
              "    <tr>\n",
              "      <th>2</th>\n",
              "      <td>100</td>\n",
              "      <td>Land Sliders</td>\n",
              "      <td>NaN</td>\n",
              "      <td>2015-09-24</td>\n",
              "      <td>0.0</td>\n",
              "      <td>0</td>\n",
              "      <td>0</td>\n",
              "      <td>2</td>\n",
              "      <td>iOS</td>\n",
              "      <td>Adventure||Arcade</td>\n",
              "      <td>0</td>\n",
              "      <td>2</td>\n",
              "      <td>2</td>\n",
              "      <td>0</td>\n",
              "      <td>1</td>\n",
              "      <td>0</td>\n",
              "    </tr>\n",
              "    <tr>\n",
              "      <th>3</th>\n",
              "      <td>1000</td>\n",
              "      <td>Pixel Gear</td>\n",
              "      <td>NaN</td>\n",
              "      <td>2016-10-20</td>\n",
              "      <td>0.0</td>\n",
              "      <td>0</td>\n",
              "      <td>0</td>\n",
              "      <td>0</td>\n",
              "      <td>PC||PlayStation 4</td>\n",
              "      <td>Action||Indie</td>\n",
              "      <td>0</td>\n",
              "      <td>1</td>\n",
              "      <td>0</td>\n",
              "      <td>0</td>\n",
              "      <td>0</td>\n",
              "      <td>0</td>\n",
              "    </tr>\n",
              "    <tr>\n",
              "      <th>4</th>\n",
              "      <td>10000</td>\n",
              "      <td>Gods and Idols</td>\n",
              "      <td>NaN</td>\n",
              "      <td>2016-12-12</td>\n",
              "      <td>0.0</td>\n",
              "      <td>1</td>\n",
              "      <td>0</td>\n",
              "      <td>5</td>\n",
              "      <td>PC</td>\n",
              "      <td>RPG||Strategy||Massively Multiplayer</td>\n",
              "      <td>2</td>\n",
              "      <td>79</td>\n",
              "      <td>0</td>\n",
              "      <td>0</td>\n",
              "      <td>0</td>\n",
              "      <td>0</td>\n",
              "    </tr>\n",
              "  </tbody>\n",
              "</table>\n",
              "</div>\n",
              "    <div class=\"colab-df-buttons\">\n",
              "\n",
              "  <div class=\"colab-df-container\">\n",
              "    <button class=\"colab-df-convert\" onclick=\"convertToInteractive('df-ef4d844e-0055-4422-90cd-76b011d00bbe')\"\n",
              "            title=\"Convert this dataframe to an interactive table.\"\n",
              "            style=\"display:none;\">\n",
              "\n",
              "  <svg xmlns=\"http://www.w3.org/2000/svg\" height=\"24px\" viewBox=\"0 -960 960 960\">\n",
              "    <path d=\"M120-120v-720h720v720H120Zm60-500h600v-160H180v160Zm220 220h160v-160H400v160Zm0 220h160v-160H400v160ZM180-400h160v-160H180v160Zm440 0h160v-160H620v160ZM180-180h160v-160H180v160Zm440 0h160v-160H620v160Z\"/>\n",
              "  </svg>\n",
              "    </button>\n",
              "\n",
              "  <style>\n",
              "    .colab-df-container {\n",
              "      display:flex;\n",
              "      gap: 12px;\n",
              "    }\n",
              "\n",
              "    .colab-df-convert {\n",
              "      background-color: #E8F0FE;\n",
              "      border: none;\n",
              "      border-radius: 50%;\n",
              "      cursor: pointer;\n",
              "      display: none;\n",
              "      fill: #1967D2;\n",
              "      height: 32px;\n",
              "      padding: 0 0 0 0;\n",
              "      width: 32px;\n",
              "    }\n",
              "\n",
              "    .colab-df-convert:hover {\n",
              "      background-color: #E2EBFA;\n",
              "      box-shadow: 0px 1px 2px rgba(60, 64, 67, 0.3), 0px 1px 3px 1px rgba(60, 64, 67, 0.15);\n",
              "      fill: #174EA6;\n",
              "    }\n",
              "\n",
              "    .colab-df-buttons div {\n",
              "      margin-bottom: 4px;\n",
              "    }\n",
              "\n",
              "    [theme=dark] .colab-df-convert {\n",
              "      background-color: #3B4455;\n",
              "      fill: #D2E3FC;\n",
              "    }\n",
              "\n",
              "    [theme=dark] .colab-df-convert:hover {\n",
              "      background-color: #434B5C;\n",
              "      box-shadow: 0px 1px 3px 1px rgba(0, 0, 0, 0.15);\n",
              "      filter: drop-shadow(0px 1px 2px rgba(0, 0, 0, 0.3));\n",
              "      fill: #FFFFFF;\n",
              "    }\n",
              "  </style>\n",
              "\n",
              "    <script>\n",
              "      const buttonEl =\n",
              "        document.querySelector('#df-ef4d844e-0055-4422-90cd-76b011d00bbe button.colab-df-convert');\n",
              "      buttonEl.style.display =\n",
              "        google.colab.kernel.accessAllowed ? 'block' : 'none';\n",
              "\n",
              "      async function convertToInteractive(key) {\n",
              "        const element = document.querySelector('#df-ef4d844e-0055-4422-90cd-76b011d00bbe');\n",
              "        const dataTable =\n",
              "          await google.colab.kernel.invokeFunction('convertToInteractive',\n",
              "                                                    [key], {});\n",
              "        if (!dataTable) return;\n",
              "\n",
              "        const docLinkHtml = 'Like what you see? Visit the ' +\n",
              "          '<a target=\"_blank\" href=https://colab.research.google.com/notebooks/data_table.ipynb>data table notebook</a>'\n",
              "          + ' to learn more about interactive tables.';\n",
              "        element.innerHTML = '';\n",
              "        dataTable['output_type'] = 'display_data';\n",
              "        await google.colab.output.renderOutput(dataTable, element);\n",
              "        const docLink = document.createElement('div');\n",
              "        docLink.innerHTML = docLinkHtml;\n",
              "        element.appendChild(docLink);\n",
              "      }\n",
              "    </script>\n",
              "  </div>\n",
              "\n",
              "\n",
              "<div id=\"df-2d9f73d3-2d16-4748-9dfc-e0f28ec93ed8\">\n",
              "  <button class=\"colab-df-quickchart\" onclick=\"quickchart('df-2d9f73d3-2d16-4748-9dfc-e0f28ec93ed8')\"\n",
              "            title=\"Suggest charts\"\n",
              "            style=\"display:none;\">\n",
              "\n",
              "<svg xmlns=\"http://www.w3.org/2000/svg\" height=\"24px\"viewBox=\"0 0 24 24\"\n",
              "     width=\"24px\">\n",
              "    <g>\n",
              "        <path d=\"M19 3H5c-1.1 0-2 .9-2 2v14c0 1.1.9 2 2 2h14c1.1 0 2-.9 2-2V5c0-1.1-.9-2-2-2zM9 17H7v-7h2v7zm4 0h-2V7h2v10zm4 0h-2v-4h2v4z\"/>\n",
              "    </g>\n",
              "</svg>\n",
              "  </button>\n",
              "\n",
              "<style>\n",
              "  .colab-df-quickchart {\n",
              "      --bg-color: #E8F0FE;\n",
              "      --fill-color: #1967D2;\n",
              "      --hover-bg-color: #E2EBFA;\n",
              "      --hover-fill-color: #174EA6;\n",
              "      --disabled-fill-color: #AAA;\n",
              "      --disabled-bg-color: #DDD;\n",
              "  }\n",
              "\n",
              "  [theme=dark] .colab-df-quickchart {\n",
              "      --bg-color: #3B4455;\n",
              "      --fill-color: #D2E3FC;\n",
              "      --hover-bg-color: #434B5C;\n",
              "      --hover-fill-color: #FFFFFF;\n",
              "      --disabled-bg-color: #3B4455;\n",
              "      --disabled-fill-color: #666;\n",
              "  }\n",
              "\n",
              "  .colab-df-quickchart {\n",
              "    background-color: var(--bg-color);\n",
              "    border: none;\n",
              "    border-radius: 50%;\n",
              "    cursor: pointer;\n",
              "    display: none;\n",
              "    fill: var(--fill-color);\n",
              "    height: 32px;\n",
              "    padding: 0;\n",
              "    width: 32px;\n",
              "  }\n",
              "\n",
              "  .colab-df-quickchart:hover {\n",
              "    background-color: var(--hover-bg-color);\n",
              "    box-shadow: 0 1px 2px rgba(60, 64, 67, 0.3), 0 1px 3px 1px rgba(60, 64, 67, 0.15);\n",
              "    fill: var(--button-hover-fill-color);\n",
              "  }\n",
              "\n",
              "  .colab-df-quickchart-complete:disabled,\n",
              "  .colab-df-quickchart-complete:disabled:hover {\n",
              "    background-color: var(--disabled-bg-color);\n",
              "    fill: var(--disabled-fill-color);\n",
              "    box-shadow: none;\n",
              "  }\n",
              "\n",
              "  .colab-df-spinner {\n",
              "    border: 2px solid var(--fill-color);\n",
              "    border-color: transparent;\n",
              "    border-bottom-color: var(--fill-color);\n",
              "    animation:\n",
              "      spin 1s steps(1) infinite;\n",
              "  }\n",
              "\n",
              "  @keyframes spin {\n",
              "    0% {\n",
              "      border-color: transparent;\n",
              "      border-bottom-color: var(--fill-color);\n",
              "      border-left-color: var(--fill-color);\n",
              "    }\n",
              "    20% {\n",
              "      border-color: transparent;\n",
              "      border-left-color: var(--fill-color);\n",
              "      border-top-color: var(--fill-color);\n",
              "    }\n",
              "    30% {\n",
              "      border-color: transparent;\n",
              "      border-left-color: var(--fill-color);\n",
              "      border-top-color: var(--fill-color);\n",
              "      border-right-color: var(--fill-color);\n",
              "    }\n",
              "    40% {\n",
              "      border-color: transparent;\n",
              "      border-right-color: var(--fill-color);\n",
              "      border-top-color: var(--fill-color);\n",
              "    }\n",
              "    60% {\n",
              "      border-color: transparent;\n",
              "      border-right-color: var(--fill-color);\n",
              "    }\n",
              "    80% {\n",
              "      border-color: transparent;\n",
              "      border-right-color: var(--fill-color);\n",
              "      border-bottom-color: var(--fill-color);\n",
              "    }\n",
              "    90% {\n",
              "      border-color: transparent;\n",
              "      border-bottom-color: var(--fill-color);\n",
              "    }\n",
              "  }\n",
              "</style>\n",
              "\n",
              "  <script>\n",
              "    async function quickchart(key) {\n",
              "      const quickchartButtonEl =\n",
              "        document.querySelector('#' + key + ' button');\n",
              "      quickchartButtonEl.disabled = true;  // To prevent multiple clicks.\n",
              "      quickchartButtonEl.classList.add('colab-df-spinner');\n",
              "      try {\n",
              "        const charts = await google.colab.kernel.invokeFunction(\n",
              "            'suggestCharts', [key], {});\n",
              "      } catch (error) {\n",
              "        console.error('Error during call to suggestCharts:', error);\n",
              "      }\n",
              "      quickchartButtonEl.classList.remove('colab-df-spinner');\n",
              "      quickchartButtonEl.classList.add('colab-df-quickchart-complete');\n",
              "    }\n",
              "    (() => {\n",
              "      let quickchartButtonEl =\n",
              "        document.querySelector('#df-2d9f73d3-2d16-4748-9dfc-e0f28ec93ed8 button');\n",
              "      quickchartButtonEl.style.display =\n",
              "        google.colab.kernel.accessAllowed ? 'block' : 'none';\n",
              "    })();\n",
              "  </script>\n",
              "</div>\n",
              "\n",
              "    </div>\n",
              "  </div>\n"
            ]
          },
          "metadata": {},
          "execution_count": 19
        }
      ],
      "source": [
        "gameinfo = gameinfo.drop(['slug', 'tba', 'updated', 'website', 'rating_top', 'developers', 'publishers', 'esrb_rating', 'reviews_count', 'suggestions_count', 'game_series_count'], axis=1)\n",
        "\n",
        "gameinfo.head()"
      ]
    },
    {
      "cell_type": "code",
      "execution_count": 20,
      "metadata": {
        "colab": {
          "base_uri": "https://localhost:8080/",
          "height": 320
        },
        "id": "PCk4O0aieyYM",
        "outputId": "9fae84fc-aea8-4347-b817-86d9e1feb99d"
      },
      "outputs": [
        {
          "output_type": "execute_result",
          "data": {
            "text/plain": [
              "                  id   metacritic         rating       playtime  \\\n",
              "count  474417.000000  4733.000000  474417.000000  474417.000000   \n",
              "mean   266884.000325    73.159307       0.085723       0.221662   \n",
              "std    154567.811630    11.502213       0.545049       5.399684   \n",
              "min         1.000000    15.000000       0.000000       0.000000   \n",
              "25%    133664.000000    67.000000       0.000000       0.000000   \n",
              "50%    267945.000000    75.000000       0.000000       0.000000   \n",
              "75%    406010.000000    81.000000       0.000000       0.000000   \n",
              "max    525551.000000    99.000000       5.000000    1600.000000   \n",
              "\n",
              "       achievements_count  ratings_count  added_status_yet  \\\n",
              "count       474417.000000  474417.000000     474417.000000   \n",
              "mean             4.448837       2.142463          0.685030   \n",
              "std            117.671466      36.553606          9.012424   \n",
              "min              0.000000       0.000000          0.000000   \n",
              "25%              0.000000       0.000000          0.000000   \n",
              "50%              0.000000       0.000000          0.000000   \n",
              "75%              0.000000       0.000000          0.000000   \n",
              "max          12322.000000    4289.000000        635.000000   \n",
              "\n",
              "       added_status_owned  added_status_beaten  added_status_toplay  \\\n",
              "count       474417.000000        474417.000000        474417.000000   \n",
              "mean            11.251418             1.361486             0.430767   \n",
              "std            128.531595            28.519725             8.970948   \n",
              "min              0.000000             0.000000             0.000000   \n",
              "25%              0.000000             0.000000             0.000000   \n",
              "50%              0.000000             0.000000             0.000000   \n",
              "75%              0.000000             0.000000             0.000000   \n",
              "max           8298.000000          3533.000000          2325.000000   \n",
              "\n",
              "       added_status_dropped  added_status_playing  \n",
              "count         474417.000000         474417.000000  \n",
              "mean               0.678100              0.149027  \n",
              "std               10.484977              3.911149  \n",
              "min                0.000000              0.000000  \n",
              "25%                0.000000              0.000000  \n",
              "50%                0.000000              0.000000  \n",
              "75%                0.000000              0.000000  \n",
              "max             1092.000000            644.000000  "
            ],
            "text/html": [
              "\n",
              "  <div id=\"df-d44a669c-7427-4f90-804a-9d5fdee541d7\" class=\"colab-df-container\">\n",
              "    <div>\n",
              "<style scoped>\n",
              "    .dataframe tbody tr th:only-of-type {\n",
              "        vertical-align: middle;\n",
              "    }\n",
              "\n",
              "    .dataframe tbody tr th {\n",
              "        vertical-align: top;\n",
              "    }\n",
              "\n",
              "    .dataframe thead th {\n",
              "        text-align: right;\n",
              "    }\n",
              "</style>\n",
              "<table border=\"1\" class=\"dataframe\">\n",
              "  <thead>\n",
              "    <tr style=\"text-align: right;\">\n",
              "      <th></th>\n",
              "      <th>id</th>\n",
              "      <th>metacritic</th>\n",
              "      <th>rating</th>\n",
              "      <th>playtime</th>\n",
              "      <th>achievements_count</th>\n",
              "      <th>ratings_count</th>\n",
              "      <th>added_status_yet</th>\n",
              "      <th>added_status_owned</th>\n",
              "      <th>added_status_beaten</th>\n",
              "      <th>added_status_toplay</th>\n",
              "      <th>added_status_dropped</th>\n",
              "      <th>added_status_playing</th>\n",
              "    </tr>\n",
              "  </thead>\n",
              "  <tbody>\n",
              "    <tr>\n",
              "      <th>count</th>\n",
              "      <td>474417.000000</td>\n",
              "      <td>4733.000000</td>\n",
              "      <td>474417.000000</td>\n",
              "      <td>474417.000000</td>\n",
              "      <td>474417.000000</td>\n",
              "      <td>474417.000000</td>\n",
              "      <td>474417.000000</td>\n",
              "      <td>474417.000000</td>\n",
              "      <td>474417.000000</td>\n",
              "      <td>474417.000000</td>\n",
              "      <td>474417.000000</td>\n",
              "      <td>474417.000000</td>\n",
              "    </tr>\n",
              "    <tr>\n",
              "      <th>mean</th>\n",
              "      <td>266884.000325</td>\n",
              "      <td>73.159307</td>\n",
              "      <td>0.085723</td>\n",
              "      <td>0.221662</td>\n",
              "      <td>4.448837</td>\n",
              "      <td>2.142463</td>\n",
              "      <td>0.685030</td>\n",
              "      <td>11.251418</td>\n",
              "      <td>1.361486</td>\n",
              "      <td>0.430767</td>\n",
              "      <td>0.678100</td>\n",
              "      <td>0.149027</td>\n",
              "    </tr>\n",
              "    <tr>\n",
              "      <th>std</th>\n",
              "      <td>154567.811630</td>\n",
              "      <td>11.502213</td>\n",
              "      <td>0.545049</td>\n",
              "      <td>5.399684</td>\n",
              "      <td>117.671466</td>\n",
              "      <td>36.553606</td>\n",
              "      <td>9.012424</td>\n",
              "      <td>128.531595</td>\n",
              "      <td>28.519725</td>\n",
              "      <td>8.970948</td>\n",
              "      <td>10.484977</td>\n",
              "      <td>3.911149</td>\n",
              "    </tr>\n",
              "    <tr>\n",
              "      <th>min</th>\n",
              "      <td>1.000000</td>\n",
              "      <td>15.000000</td>\n",
              "      <td>0.000000</td>\n",
              "      <td>0.000000</td>\n",
              "      <td>0.000000</td>\n",
              "      <td>0.000000</td>\n",
              "      <td>0.000000</td>\n",
              "      <td>0.000000</td>\n",
              "      <td>0.000000</td>\n",
              "      <td>0.000000</td>\n",
              "      <td>0.000000</td>\n",
              "      <td>0.000000</td>\n",
              "    </tr>\n",
              "    <tr>\n",
              "      <th>25%</th>\n",
              "      <td>133664.000000</td>\n",
              "      <td>67.000000</td>\n",
              "      <td>0.000000</td>\n",
              "      <td>0.000000</td>\n",
              "      <td>0.000000</td>\n",
              "      <td>0.000000</td>\n",
              "      <td>0.000000</td>\n",
              "      <td>0.000000</td>\n",
              "      <td>0.000000</td>\n",
              "      <td>0.000000</td>\n",
              "      <td>0.000000</td>\n",
              "      <td>0.000000</td>\n",
              "    </tr>\n",
              "    <tr>\n",
              "      <th>50%</th>\n",
              "      <td>267945.000000</td>\n",
              "      <td>75.000000</td>\n",
              "      <td>0.000000</td>\n",
              "      <td>0.000000</td>\n",
              "      <td>0.000000</td>\n",
              "      <td>0.000000</td>\n",
              "      <td>0.000000</td>\n",
              "      <td>0.000000</td>\n",
              "      <td>0.000000</td>\n",
              "      <td>0.000000</td>\n",
              "      <td>0.000000</td>\n",
              "      <td>0.000000</td>\n",
              "    </tr>\n",
              "    <tr>\n",
              "      <th>75%</th>\n",
              "      <td>406010.000000</td>\n",
              "      <td>81.000000</td>\n",
              "      <td>0.000000</td>\n",
              "      <td>0.000000</td>\n",
              "      <td>0.000000</td>\n",
              "      <td>0.000000</td>\n",
              "      <td>0.000000</td>\n",
              "      <td>0.000000</td>\n",
              "      <td>0.000000</td>\n",
              "      <td>0.000000</td>\n",
              "      <td>0.000000</td>\n",
              "      <td>0.000000</td>\n",
              "    </tr>\n",
              "    <tr>\n",
              "      <th>max</th>\n",
              "      <td>525551.000000</td>\n",
              "      <td>99.000000</td>\n",
              "      <td>5.000000</td>\n",
              "      <td>1600.000000</td>\n",
              "      <td>12322.000000</td>\n",
              "      <td>4289.000000</td>\n",
              "      <td>635.000000</td>\n",
              "      <td>8298.000000</td>\n",
              "      <td>3533.000000</td>\n",
              "      <td>2325.000000</td>\n",
              "      <td>1092.000000</td>\n",
              "      <td>644.000000</td>\n",
              "    </tr>\n",
              "  </tbody>\n",
              "</table>\n",
              "</div>\n",
              "    <div class=\"colab-df-buttons\">\n",
              "\n",
              "  <div class=\"colab-df-container\">\n",
              "    <button class=\"colab-df-convert\" onclick=\"convertToInteractive('df-d44a669c-7427-4f90-804a-9d5fdee541d7')\"\n",
              "            title=\"Convert this dataframe to an interactive table.\"\n",
              "            style=\"display:none;\">\n",
              "\n",
              "  <svg xmlns=\"http://www.w3.org/2000/svg\" height=\"24px\" viewBox=\"0 -960 960 960\">\n",
              "    <path d=\"M120-120v-720h720v720H120Zm60-500h600v-160H180v160Zm220 220h160v-160H400v160Zm0 220h160v-160H400v160ZM180-400h160v-160H180v160Zm440 0h160v-160H620v160ZM180-180h160v-160H180v160Zm440 0h160v-160H620v160Z\"/>\n",
              "  </svg>\n",
              "    </button>\n",
              "\n",
              "  <style>\n",
              "    .colab-df-container {\n",
              "      display:flex;\n",
              "      gap: 12px;\n",
              "    }\n",
              "\n",
              "    .colab-df-convert {\n",
              "      background-color: #E8F0FE;\n",
              "      border: none;\n",
              "      border-radius: 50%;\n",
              "      cursor: pointer;\n",
              "      display: none;\n",
              "      fill: #1967D2;\n",
              "      height: 32px;\n",
              "      padding: 0 0 0 0;\n",
              "      width: 32px;\n",
              "    }\n",
              "\n",
              "    .colab-df-convert:hover {\n",
              "      background-color: #E2EBFA;\n",
              "      box-shadow: 0px 1px 2px rgba(60, 64, 67, 0.3), 0px 1px 3px 1px rgba(60, 64, 67, 0.15);\n",
              "      fill: #174EA6;\n",
              "    }\n",
              "\n",
              "    .colab-df-buttons div {\n",
              "      margin-bottom: 4px;\n",
              "    }\n",
              "\n",
              "    [theme=dark] .colab-df-convert {\n",
              "      background-color: #3B4455;\n",
              "      fill: #D2E3FC;\n",
              "    }\n",
              "\n",
              "    [theme=dark] .colab-df-convert:hover {\n",
              "      background-color: #434B5C;\n",
              "      box-shadow: 0px 1px 3px 1px rgba(0, 0, 0, 0.15);\n",
              "      filter: drop-shadow(0px 1px 2px rgba(0, 0, 0, 0.3));\n",
              "      fill: #FFFFFF;\n",
              "    }\n",
              "  </style>\n",
              "\n",
              "    <script>\n",
              "      const buttonEl =\n",
              "        document.querySelector('#df-d44a669c-7427-4f90-804a-9d5fdee541d7 button.colab-df-convert');\n",
              "      buttonEl.style.display =\n",
              "        google.colab.kernel.accessAllowed ? 'block' : 'none';\n",
              "\n",
              "      async function convertToInteractive(key) {\n",
              "        const element = document.querySelector('#df-d44a669c-7427-4f90-804a-9d5fdee541d7');\n",
              "        const dataTable =\n",
              "          await google.colab.kernel.invokeFunction('convertToInteractive',\n",
              "                                                    [key], {});\n",
              "        if (!dataTable) return;\n",
              "\n",
              "        const docLinkHtml = 'Like what you see? Visit the ' +\n",
              "          '<a target=\"_blank\" href=https://colab.research.google.com/notebooks/data_table.ipynb>data table notebook</a>'\n",
              "          + ' to learn more about interactive tables.';\n",
              "        element.innerHTML = '';\n",
              "        dataTable['output_type'] = 'display_data';\n",
              "        await google.colab.output.renderOutput(dataTable, element);\n",
              "        const docLink = document.createElement('div');\n",
              "        docLink.innerHTML = docLinkHtml;\n",
              "        element.appendChild(docLink);\n",
              "      }\n",
              "    </script>\n",
              "  </div>\n",
              "\n",
              "\n",
              "<div id=\"df-e50db27e-170b-43ba-92a9-6995a3a25f75\">\n",
              "  <button class=\"colab-df-quickchart\" onclick=\"quickchart('df-e50db27e-170b-43ba-92a9-6995a3a25f75')\"\n",
              "            title=\"Suggest charts\"\n",
              "            style=\"display:none;\">\n",
              "\n",
              "<svg xmlns=\"http://www.w3.org/2000/svg\" height=\"24px\"viewBox=\"0 0 24 24\"\n",
              "     width=\"24px\">\n",
              "    <g>\n",
              "        <path d=\"M19 3H5c-1.1 0-2 .9-2 2v14c0 1.1.9 2 2 2h14c1.1 0 2-.9 2-2V5c0-1.1-.9-2-2-2zM9 17H7v-7h2v7zm4 0h-2V7h2v10zm4 0h-2v-4h2v4z\"/>\n",
              "    </g>\n",
              "</svg>\n",
              "  </button>\n",
              "\n",
              "<style>\n",
              "  .colab-df-quickchart {\n",
              "      --bg-color: #E8F0FE;\n",
              "      --fill-color: #1967D2;\n",
              "      --hover-bg-color: #E2EBFA;\n",
              "      --hover-fill-color: #174EA6;\n",
              "      --disabled-fill-color: #AAA;\n",
              "      --disabled-bg-color: #DDD;\n",
              "  }\n",
              "\n",
              "  [theme=dark] .colab-df-quickchart {\n",
              "      --bg-color: #3B4455;\n",
              "      --fill-color: #D2E3FC;\n",
              "      --hover-bg-color: #434B5C;\n",
              "      --hover-fill-color: #FFFFFF;\n",
              "      --disabled-bg-color: #3B4455;\n",
              "      --disabled-fill-color: #666;\n",
              "  }\n",
              "\n",
              "  .colab-df-quickchart {\n",
              "    background-color: var(--bg-color);\n",
              "    border: none;\n",
              "    border-radius: 50%;\n",
              "    cursor: pointer;\n",
              "    display: none;\n",
              "    fill: var(--fill-color);\n",
              "    height: 32px;\n",
              "    padding: 0;\n",
              "    width: 32px;\n",
              "  }\n",
              "\n",
              "  .colab-df-quickchart:hover {\n",
              "    background-color: var(--hover-bg-color);\n",
              "    box-shadow: 0 1px 2px rgba(60, 64, 67, 0.3), 0 1px 3px 1px rgba(60, 64, 67, 0.15);\n",
              "    fill: var(--button-hover-fill-color);\n",
              "  }\n",
              "\n",
              "  .colab-df-quickchart-complete:disabled,\n",
              "  .colab-df-quickchart-complete:disabled:hover {\n",
              "    background-color: var(--disabled-bg-color);\n",
              "    fill: var(--disabled-fill-color);\n",
              "    box-shadow: none;\n",
              "  }\n",
              "\n",
              "  .colab-df-spinner {\n",
              "    border: 2px solid var(--fill-color);\n",
              "    border-color: transparent;\n",
              "    border-bottom-color: var(--fill-color);\n",
              "    animation:\n",
              "      spin 1s steps(1) infinite;\n",
              "  }\n",
              "\n",
              "  @keyframes spin {\n",
              "    0% {\n",
              "      border-color: transparent;\n",
              "      border-bottom-color: var(--fill-color);\n",
              "      border-left-color: var(--fill-color);\n",
              "    }\n",
              "    20% {\n",
              "      border-color: transparent;\n",
              "      border-left-color: var(--fill-color);\n",
              "      border-top-color: var(--fill-color);\n",
              "    }\n",
              "    30% {\n",
              "      border-color: transparent;\n",
              "      border-left-color: var(--fill-color);\n",
              "      border-top-color: var(--fill-color);\n",
              "      border-right-color: var(--fill-color);\n",
              "    }\n",
              "    40% {\n",
              "      border-color: transparent;\n",
              "      border-right-color: var(--fill-color);\n",
              "      border-top-color: var(--fill-color);\n",
              "    }\n",
              "    60% {\n",
              "      border-color: transparent;\n",
              "      border-right-color: var(--fill-color);\n",
              "    }\n",
              "    80% {\n",
              "      border-color: transparent;\n",
              "      border-right-color: var(--fill-color);\n",
              "      border-bottom-color: var(--fill-color);\n",
              "    }\n",
              "    90% {\n",
              "      border-color: transparent;\n",
              "      border-bottom-color: var(--fill-color);\n",
              "    }\n",
              "  }\n",
              "</style>\n",
              "\n",
              "  <script>\n",
              "    async function quickchart(key) {\n",
              "      const quickchartButtonEl =\n",
              "        document.querySelector('#' + key + ' button');\n",
              "      quickchartButtonEl.disabled = true;  // To prevent multiple clicks.\n",
              "      quickchartButtonEl.classList.add('colab-df-spinner');\n",
              "      try {\n",
              "        const charts = await google.colab.kernel.invokeFunction(\n",
              "            'suggestCharts', [key], {});\n",
              "      } catch (error) {\n",
              "        console.error('Error during call to suggestCharts:', error);\n",
              "      }\n",
              "      quickchartButtonEl.classList.remove('colab-df-spinner');\n",
              "      quickchartButtonEl.classList.add('colab-df-quickchart-complete');\n",
              "    }\n",
              "    (() => {\n",
              "      let quickchartButtonEl =\n",
              "        document.querySelector('#df-e50db27e-170b-43ba-92a9-6995a3a25f75 button');\n",
              "      quickchartButtonEl.style.display =\n",
              "        google.colab.kernel.accessAllowed ? 'block' : 'none';\n",
              "    })();\n",
              "  </script>\n",
              "</div>\n",
              "\n",
              "    </div>\n",
              "  </div>\n"
            ]
          },
          "metadata": {},
          "execution_count": 20
        }
      ],
      "source": [
        "gameinfo.describe()"
      ]
    },
    {
      "cell_type": "code",
      "execution_count": 21,
      "metadata": {
        "colab": {
          "base_uri": "https://localhost:8080/"
        },
        "id": "MwlsXe9peyYM",
        "outputId": "dff6badd-183b-4f7b-e085-e487ece19d07"
      },
      "outputs": [
        {
          "output_type": "stream",
          "name": "stdout",
          "text": [
            "<class 'pandas.core.frame.DataFrame'>\n",
            "RangeIndex: 474417 entries, 0 to 474416\n",
            "Data columns (total 16 columns):\n",
            " #   Column                Non-Null Count   Dtype  \n",
            "---  ------                --------------   -----  \n",
            " 0   id                    474417 non-null  int64  \n",
            " 1   name                  474415 non-null  object \n",
            " 2   metacritic            4733 non-null    float64\n",
            " 3   released              450218 non-null  object \n",
            " 4   rating                474417 non-null  float64\n",
            " 5   playtime              474417 non-null  int64  \n",
            " 6   achievements_count    474417 non-null  int64  \n",
            " 7   ratings_count         474417 non-null  int64  \n",
            " 8   platforms             470431 non-null  object \n",
            " 9   genres                371232 non-null  object \n",
            " 10  added_status_yet      474417 non-null  int64  \n",
            " 11  added_status_owned    474417 non-null  int64  \n",
            " 12  added_status_beaten   474417 non-null  int64  \n",
            " 13  added_status_toplay   474417 non-null  int64  \n",
            " 14  added_status_dropped  474417 non-null  int64  \n",
            " 15  added_status_playing  474417 non-null  int64  \n",
            "dtypes: float64(2), int64(10), object(4)\n",
            "memory usage: 57.9+ MB\n"
          ]
        }
      ],
      "source": [
        "gameinfo.info()"
      ]
    },
    {
      "cell_type": "markdown",
      "metadata": {
        "id": "0_t9NVFceyYN"
      },
      "source": [
        "Now we want to look into if there is any relationship between the sales in genre compared to the user ratings in genre. This means we first need to merge the two datasets."
      ]
    },
    {
      "cell_type": "code",
      "execution_count": 22,
      "metadata": {
        "colab": {
          "base_uri": "https://localhost:8080/"
        },
        "id": "aN5TwqvaeyYN",
        "outputId": "45ba365a-6a93-46c9-a2e4-de317ca6363a"
      },
      "outputs": [
        {
          "output_type": "execute_result",
          "data": {
            "text/plain": [
              "Rank                    9771\n",
              "Name                    9771\n",
              "Platform                9771\n",
              "Year                    9585\n",
              "Genre                   9771\n",
              "Publisher               9754\n",
              "North America           9771\n",
              "Europe                  9771\n",
              "Japan                   9771\n",
              "Other                   9771\n",
              "Global_Sales            9771\n",
              "id                      9771\n",
              "metacritic              2299\n",
              "released                9417\n",
              "rating                  9771\n",
              "playtime                9771\n",
              "achievements_count      9771\n",
              "ratings_count           9771\n",
              "platforms               9762\n",
              "genres                  7956\n",
              "added_status_yet        9771\n",
              "added_status_owned      9771\n",
              "added_status_beaten     9771\n",
              "added_status_toplay     9771\n",
              "added_status_dropped    9771\n",
              "added_status_playing    9771\n",
              "dtype: int64"
            ]
          },
          "metadata": {},
          "execution_count": 22
        }
      ],
      "source": [
        "gameinfo_N = gameinfo.rename(columns={'name': \"Name\"})\n",
        "gameinfo_N.head()\n",
        "merged = games.merge(gameinfo_N, on=[\"Name\"], how='inner')\n",
        "merged.count()"
      ]
    },
    {
      "cell_type": "markdown",
      "metadata": {
        "id": "u8PbE7c_eyYN"
      },
      "source": [
        "It looks like we have almost 10,000 datapoints preserved after merging, which is more than enough to analyze! Now we first do a check to see if trends are preserved in sales by genre, basically doing the same graph as we did earlier."
      ]
    },
    {
      "cell_type": "code",
      "execution_count": 23,
      "metadata": {
        "colab": {
          "base_uri": "https://localhost:8080/",
          "height": 551
        },
        "id": "vdQs0m2oeyYN",
        "outputId": "5309a951-d912-4b78-8b91-2b936c452235"
      },
      "outputs": [
        {
          "output_type": "execute_result",
          "data": {
            "text/plain": [
              "Text(0.5, 0, 'Genres')"
            ]
          },
          "metadata": {},
          "execution_count": 23
        },
        {
          "output_type": "display_data",
          "data": {
            "text/plain": [
              "<Figure size 1800x600 with 3 Axes>"
            ],
            "image/png": "[encoded data removed]"
          },
          "metadata": {}
        }
      ],
      "source": [
        "grouping = merged[[\"Genre\", \"Japan\", \"North America\", \"Europe\"]]\n",
        "genres = grouping.groupby(\"Genre\").sum()\n",
        "\n",
        "#Genre for Japan  = JA, Genre for North America is genre for NA, and so forth\n",
        "JA = genres[\"Japan\"]\n",
        "NA = genres[\"North America\"]\n",
        "EU = genres[\"Europe\"]\n",
        "\n",
        "#create sbplots to plot three plots at the same time\n",
        "fig, (ax1, ax2, ax3) = plt.subplots(1, 3, figsize = (18,6))\n",
        "fig.suptitle('Video Game Sales by Genre in Different Regions in the merged dataset')\n",
        "\n",
        "JA.plot(kind = 'bar', color = sns.color_palette(\"tab20\"), title = \"Video Game by Genre in Japan\", ax = ax1)\n",
        "ax1.set_ylabel(\"Total Sales (Millions)\")\n",
        "ax1.set_xlabel(\"Genres\")\n",
        "\n",
        "NA.plot(kind = 'bar', color = sns.color_palette(\"tab20b\"), title = \"Video Game by Genre in North America\", ax = ax2)\n",
        "ax2.set_ylabel(\"Total Sales (Millions)\")\n",
        "ax2.set_xlabel(\"Genres\")\n",
        "\n",
        "EU.plot(kind = 'bar', color = sns.color_palette(\"tab20c\"), title = \"Video Game by Genre in Europe\", ax = ax3)\n",
        "ax3.set_ylabel(\"Total Sales (Millions)\")\n",
        "ax3.set_xlabel(\"Genres\")"
      ]
    },
    {
      "cell_type": "markdown",
      "metadata": {
        "id": "11MgF_0CeyYN"
      },
      "source": [
        "It looks pretty much the same, so that is a good sign. Now lets see average rating per genre comared to sales per genre."
      ]
    },
    {
      "cell_type": "code",
      "execution_count": 24,
      "metadata": {
        "id": "LuCq0ZjCeyYN"
      },
      "outputs": [],
      "source": [
        "genre = merged[[\"Genre\", \"rating\", \"Global_Sales\"]]\n",
        "genre_rate= genre.groupby(\"Genre\").mean()\n",
        "genre_sale = genre.groupby(\"Genre\").sum()\n",
        "gsale = genre_sale.Global_Sales\n",
        "grate = genre_rate.rating"
      ]
    },
    {
      "cell_type": "code",
      "execution_count": 25,
      "metadata": {
        "colab": {
          "base_uri": "https://localhost:8080/",
          "height": 346
        },
        "id": "R1BN4CYneyYN",
        "outputId": "fe705647-03bd-4380-8445-7a26e49032f7"
      },
      "outputs": [
        {
          "output_type": "execute_result",
          "data": {
            "text/plain": [
              "Text(0, 0.5, 'Min-Max Scale')"
            ]
          },
          "metadata": {},
          "execution_count": 25
        },
        {
          "output_type": "display_data",
          "data": {
            "text/plain": [
              "<Figure size 2500x500 with 1 Axes>"
            ],
            "image/png": "[encoded data removed]"
          },
          "metadata": {}
        }
      ],
      "source": [
        "from sklearn.preprocessing import MinMaxScaler\n",
        "#because ratings are in units of 1-5, and sale is in millions, we must scale. We use MinMax scaler just so there are no negatives\n",
        "scaler = MinMaxScaler()\n",
        "\n",
        "#set index of df into the genres\n",
        "index = ['Action', 'Adventure', 'Fighting', 'Misc', 'Platform', 'Puzzle', 'Racing', 'Role-Playing', 'Shooter', 'Simulation', 'Sports', 'Strategy']\n",
        "#minmax scale data\n",
        "grate_sc = scaler.fit_transform(grate.to_frame())\n",
        "gsale_sc = scaler.fit_transform(gsale.to_frame())\n",
        "\n",
        "#create new df\n",
        "total = pd.DataFrame()\n",
        "total['index'] = index\n",
        "total['Global Sales Scaled'] = gsale_sc\n",
        "total['Ratings Scaled'] = grate_sc\n",
        "\n",
        "#now graph df\n",
        "total_graph = total.set_index('index')\n",
        "\n",
        "fig, (ax1) = plt.subplots(1, 1, figsize = (25,5))\n",
        "total_graph.plot(kind = 'bar', title = \"Video Game Sales and Ratings by Genre\", ax = ax1, alpha = .5)\n",
        "ax1.set_xlabel(\"Genre\")\n",
        "ax1.set_ylabel(\"Min-Max Scale\")"
      ]
    },
    {
      "cell_type": "markdown",
      "metadata": {
        "id": "WNuimnZgMDNG"
      },
      "source": [
        "It looks like there isn't really a relationship between global sales and ratings when looking at different genres. For puzzle, it seems to be lowest of both ratings and global sales, and for simulation and racing, both genres seem to have about the same amount of global sales an level of rating propotionally. However, generally, the trends seem to not match up between the two."
      ]
    },
    {
      "cell_type": "markdown",
      "metadata": {
        "id": "BRytaJQJNFzr"
      },
      "source": [
        "From here, we decided to look into if there was a relationship between the status of completion and genre."
      ]
    },
    {
      "cell_type": "code",
      "execution_count": 26,
      "metadata": {
        "id": "OUL5nVMneyYN"
      },
      "outputs": [],
      "source": [
        "genre = merged[[\"Genre\", \"rating\", \"Global_Sales\"]]\n",
        "genre_rate= genre.groupby(\"Genre\").mean()\n",
        "genre_sale = genre.groupby(\"Genre\").sum()\n",
        "gsale = genre_sale.Global_Sales\n",
        "grate = genre_rate.rating\n"
      ]
    },
    {
      "cell_type": "code",
      "execution_count": 27,
      "metadata": {
        "colab": {
          "base_uri": "https://localhost:8080/"
        },
        "id": "qCzyQm1BeyYO",
        "outputId": "52b58dbe-a6db-40f4-b45c-9c51178e517f"
      },
      "outputs": [
        {
          "output_type": "stream",
          "name": "stdout",
          "text": [
            "<class 'pandas.core.frame.DataFrame'>\n",
            "Int64Index: 4671 entries, 43 to 474387\n",
            "Data columns (total 16 columns):\n",
            " #   Column                Non-Null Count  Dtype         \n",
            "---  ------                --------------  -----         \n",
            " 0   id                    4671 non-null   int64         \n",
            " 1   name                  4671 non-null   object        \n",
            " 2   metacritic            4671 non-null   float64       \n",
            " 3   released              4671 non-null   datetime64[ns]\n",
            " 4   rating                4671 non-null   float64       \n",
            " 5   playtime              4671 non-null   int64         \n",
            " 6   achievements_count    4671 non-null   int64         \n",
            " 7   ratings_count         4671 non-null   int64         \n",
            " 8   platforms             4671 non-null   object        \n",
            " 9   genres                4671 non-null   object        \n",
            " 10  added_status_yet      4671 non-null   int64         \n",
            " 11  added_status_owned    4671 non-null   int64         \n",
            " 12  added_status_beaten   4671 non-null   int64         \n",
            " 13  added_status_toplay   4671 non-null   int64         \n",
            " 14  added_status_dropped  4671 non-null   int64         \n",
            " 15  added_status_playing  4671 non-null   int64         \n",
            "dtypes: datetime64[ns](1), float64(2), int64(10), object(3)\n",
            "memory usage: 620.4+ KB\n"
          ]
        }
      ],
      "source": [
        "gameinfo['released'] = pd.to_datetime(gameinfo['released'], errors='coerce')\n",
        "\n",
        "metacritic_info = gameinfo.dropna()\n",
        "\n",
        "metacritic_info.info()"
      ]
    },
    {
      "cell_type": "code",
      "execution_count": 28,
      "metadata": {
        "colab": {
          "base_uri": "https://localhost:8080/",
          "height": 964
        },
        "id": "v0Zt9V-oAX8L",
        "outputId": "c7e4f516-47cc-41ff-a27e-ae48e27cb2fe"
      },
      "outputs": [
        {
          "output_type": "execute_result",
          "data": {
            "text/plain": [
              "<Axes: title={'center': 'Video Game Status with Scale'}, xlabel='Genre'>"
            ]
          },
          "metadata": {},
          "execution_count": 28
        },
        {
          "output_type": "display_data",
          "data": {
            "text/plain": [
              "<Figure size 2000x1500 with 2 Axes>"
            ],
            "image/png": "[encoded data removed]"
          },
          "metadata": {}
        }
      ],
      "source": [
        "#now we create a graph showing status of completion per genre\n",
        "top = merged[['Genre','added_status_yet', 'added_status_beaten', 'added_status_toplay', 'added_status_dropped', 'added_status_playing']]\n",
        "top = top.rename(columns = {'added_status_yet': 'Not Played',\n",
        "                       'added_status_beaten': 'Beaten',\n",
        "                       'added_status_toplay': 'To Play',\n",
        "                       'added_status_dropped': 'Stopped Playing not Beaten',\n",
        "                       'added_status_playing': 'Currently Playing'\n",
        "               })\n",
        "total = top.groupby('Genre').sum().sum(axis='columns')\n",
        "single = top.groupby('Genre').sum()\n",
        "thPlt = top.groupby('Genre').sum()\n",
        "\n",
        "\n",
        "for i in range(12):\n",
        "  thPlt.iloc[i] = single.iloc[i]/total.iloc[i]\n",
        "\n",
        "fig, (ax1, ax2) = plt.subplots(2, 1, figsize = (20,15))\n",
        "single.plot(kind = 'bar', title = \"Video Game Status without Scale\",  ax = ax2, alpha = .5)\n",
        "thPlt.plot(kind = 'bar', title = \"Video Game Status with Scale\",  ax = ax1,alpha = .5)\n"
      ]
    },
    {
      "cell_type": "markdown",
      "metadata": {
        "id": "FCfL9UyfIwtv"
      },
      "source": [
        "We thought that for example if genre predicts status, maybe if a genre is prone to not be beaten, then maybe the genre is not the best type to pursue, or don't make the game very long. However, it seems there is no general trend, but sports genre seems to be the one with the highest ratio of played but not beaten to total amount of statusus. This makes sense as a lot of sports games you play again and again, where you can play online, with friends, etc."
      ]
    },
    {
      "cell_type": "markdown",
      "metadata": {
        "id": "i46qj0VbeyYP"
      },
      "source": [
        "## **Model 2**"
      ]
    },
    {
      "cell_type": "markdown",
      "metadata": {
        "id": "U4HvD1WLeyYP"
      },
      "source": [
        "In this model, we would like to use Genre to predic NOA (number of acheivements) and playtime, which seems like a pretty complex task. We currently have a plan to enact this however:\n",
        "1. Split dataset 2 by Genre, if needed drop columns other than NOA and playtime\n",
        "    \n",
        "    Given that some of the games may have many genres, we are dropping games with more than 3 genres, as that leads to attributes due to genre being less accurate\n",
        "\n",
        "Genre tends to influence many properties of the game, for example sports games and roleplaying games will have different gameplay loops, where a roleplaying game could have a larger storyline, leading to a larger game. It could also mean that because sports games have a lot of replayablility, there could be more achievements linked to that. As the result, we are very interested to see the relations.\n",
        "\n",
        "2. Use KNN model find some interests:\n",
        "    1. Given Genre and NOA, what would be the predicted playtime?\n",
        "    2. Given playtime and NOA, what Genre of game would it most likely be?\n",
        "\n",
        "    This model can also be expanded to include other attributes of the dataset, adding more depth and posilbilties to predictions of other attributes\n",
        "\n",
        "\n",
        "In this model, there is no one dependent and independent variable, as you can use one attribute to predict the other, and vice versa, so it depends on you question. But in our two interests, the variables would be as follows:\n",
        "1. Independent: Genre and NOA | Dependent: playtime\n",
        "2. Independent: playtime and NOA | Dependent: Genre\n",
        "    "
      ]
    },
    {
      "cell_type": "code",
      "execution_count": 29,
      "metadata": {
        "colab": {
          "base_uri": "https://localhost:8080/"
        },
        "id": "uWek_tc3eyYP",
        "outputId": "90b1c8d3-32f9-4db2-d140-bb2ae46a8a07"
      },
      "outputs": [
        {
          "output_type": "execute_result",
          "data": {
            "text/plain": [
              "Rank                    9771\n",
              "Name                    9771\n",
              "Platform                9771\n",
              "Year                    9585\n",
              "Genre                   9771\n",
              "Publisher               9754\n",
              "North America           9771\n",
              "Europe                  9771\n",
              "Japan                   9771\n",
              "Other                   9771\n",
              "Global_Sales            9771\n",
              "id                      9771\n",
              "metacritic              2299\n",
              "released                9417\n",
              "rating                  9771\n",
              "playtime                9771\n",
              "achievements_count      9771\n",
              "ratings_count           9771\n",
              "platforms               9762\n",
              "genres                  7956\n",
              "added_status_yet        9771\n",
              "added_status_owned      9771\n",
              "added_status_beaten     9771\n",
              "added_status_toplay     9771\n",
              "added_status_dropped    9771\n",
              "added_status_playing    9771\n",
              "dtype: int64"
            ]
          },
          "metadata": {},
          "execution_count": 29
        }
      ],
      "source": [
        "#vertical bar is a weird character, must us \\| to use as delimiter\n",
        "merged.count()"
      ]
    },
    {
      "cell_type": "code",
      "execution_count": 30,
      "metadata": {
        "colab": {
          "base_uri": "https://localhost:8080/"
        },
        "id": "n43CSHQg5zz8",
        "outputId": "662c222b-cf41-438a-a222-9f080d9e9ec8"
      },
      "outputs": [
        {
          "output_type": "execute_result",
          "data": {
            "text/plain": [
              "0      6710\n",
              "1       658\n",
              "2       421\n",
              "3       291\n",
              "4       258\n",
              "       ... \n",
              "65        1\n",
              "129       1\n",
              "75        1\n",
              "63        1\n",
              "139       1\n",
              "Name: playtime, Length: 85, dtype: int64"
            ]
          },
          "metadata": {},
          "execution_count": 30
        }
      ],
      "source": [
        "#creating new instance of DF\n",
        "genreSplit = merged[['Genre','achievements_count', 'playtime', 'Global_Sales', 'rating', 'metacritic']]\n",
        "genreSplit.playtime.value_counts()\n"
      ]
    },
    {
      "cell_type": "code",
      "execution_count": 31,
      "metadata": {
        "colab": {
          "base_uri": "https://localhost:8080/",
          "height": 455
        },
        "id": "zG5Hro9D6eIx",
        "outputId": "b9adc550-69b9-4ce3-c7e0-06668f7b55ca"
      },
      "outputs": [
        {
          "output_type": "display_data",
          "data": {
            "text/plain": [
              "<Figure size 640x480 with 1 Axes>"
            ],
            "image/png": "[encoded data removed]"
          },
          "metadata": {}
        }
      ],
      "source": [
        "colors = genreSplit[\"Genre\"].map({\n",
        "    \"Action\": \"darkred\",\n",
        "    \"Sports\": \"gold\",\n",
        "    'Shooter': 'blue',\n",
        "    'Role-Playing': 'orange',\n",
        "    'Misc': 'purple',\n",
        "    'Platform': 'brown',\n",
        "    'Adventure': 'pink',\n",
        "    'Simulation': 'gray',\n",
        "    'Fighting': 'olive',\n",
        "    'Strategy': 'cyan',\n",
        "    'Racing': 'navy',\n",
        "    'Puzzle': 'red',\n",
        "})\n",
        "\n",
        "scatter = genreSplit.plot.scatter(\n",
        "    x=\"Global_Sales\", y=\"rating\", c=colors,\n",
        "    alpha=.3, xlim=(0, 40), ylim=(0, 5))\n",
        "\n"
      ]
    },
    {
      "cell_type": "code",
      "execution_count": 32,
      "metadata": {
        "id": "23ulhgGK_lUp"
      },
      "outputs": [],
      "source": [
        "from sklearn.model_selection import train_test_split\n",
        "\n",
        "X = genreSplit[['playtime', 'achievements_count', 'Global_Sales', 'rating']]\n",
        "y = genreSplit[\"Genre\"]\n",
        "\n",
        "X_train, X_test, y_train, y_test = train_test_split(X, y, test_size=0.2, random_state=42)"
      ]
    },
    {
      "cell_type": "code",
      "execution_count": 33,
      "metadata": {
        "id": "58LTCFCP_vKJ"
      },
      "outputs": [],
      "source": [
        "import numpy as np\n",
        "from sklearn.preprocessing import StandardScaler\n",
        "from sklearn.neighbors import KNeighborsClassifier\n",
        "from sklearn.metrics import f1_score, accuracy_score\n",
        "\n",
        "X_train_np = X_train.to_numpy()\n",
        "X_test_np = X_test.to_numpy()\n",
        "\n",
        "scaler = StandardScaler()\n",
        "scaler.fit(X_train_np)\n",
        "X_train_sc = scaler.transform(X_train_np)\n",
        "\n",
        "scores = []\n",
        "f1 = []\n",
        "\n",
        "for k in range(1, 50):\n",
        "    # Train and fit the model\n",
        "    model = KNeighborsClassifier(n_neighbors=k)\n",
        "    model.fit(X_train_sc, y_train)\n",
        "\n",
        "    # Convert X_test to NumPy array before making predictions\n",
        "    X_test_sc = scaler.transform(X_test_np)\n",
        "    y_test_pred = model.predict(X_test_sc)\n",
        "\n",
        "    # Add accuracy score to a list\n",
        "    scores.append(accuracy_score(y_test_pred, y_test))\n",
        "\n",
        "    # F1 score is essentially binary, so we must do S or not S, add to list\n",
        "    f1.append(f1_score(y_test, y_test_pred, average='weighted', labels=genreSplit[\"Genre\"]))\n"
      ]
    },
    {
      "cell_type": "code",
      "execution_count": 34,
      "metadata": {
        "colab": {
          "base_uri": "https://localhost:8080/"
        },
        "id": "BKtmFU1xAd5C",
        "outputId": "2a2ba0ee-e7ec-4786-8eeb-6915283f3819"
      },
      "outputs": [
        {
          "output_type": "stream",
          "name": "stdout",
          "text": [
            "Max Accuracy is 0.2731457800511509 at k = 1\n"
          ]
        }
      ],
      "source": [
        "max = pd.Series(scores).max()\n",
        "id = pd.Series(scores).idxmax()\n",
        "print(\"Max Accuracy is \" + str(max) + \" at k = \" + str(id+1))"
      ]
    },
    {
      "cell_type": "code",
      "execution_count": 35,
      "metadata": {
        "colab": {
          "base_uri": "https://localhost:8080/"
        },
        "id": "Dy2aDgyfFHXa",
        "outputId": "c9b0519b-39b7-4168-e2dc-bfd7801ebfec"
      },
      "outputs": [
        {
          "output_type": "execute_result",
          "data": {
            "text/plain": [
              "array([ 1,  2,  3,  4,  5,  6,  7,  8,  9, 10, 11, 12, 13, 14, 15, 16, 17,\n",
              "       18, 19, 20, 21, 22, 23, 24, 25, 26, 27, 28, 29, 30, 31, 32, 33, 34,\n",
              "       35, 36, 37, 38, 39, 40, 41, 42, 43, 44, 45, 46, 47, 48, 49])"
            ]
          },
          "metadata": {},
          "execution_count": 35
        }
      ],
      "source": [
        "x = np.arange(1,50)\n",
        "x"
      ]
    },
    {
      "cell_type": "code",
      "execution_count": 36,
      "metadata": {
        "colab": {
          "base_uri": "https://localhost:8080/",
          "height": 466
        },
        "id": "pOA1oCBWEhoA",
        "outputId": "f0e939e4-3647-4e1f-d7bf-849f0b151260"
      },
      "outputs": [
        {
          "output_type": "execute_result",
          "data": {
            "text/plain": [
              "Text(0, 0.5, 'Accuracy')"
            ]
          },
          "metadata": {},
          "execution_count": 36
        },
        {
          "output_type": "display_data",
          "data": {
            "text/plain": [
              "<Figure size 640x480 with 1 Axes>"
            ],
            "image/png": "[encoded data removed]"
          },
          "metadata": {}
        }
      ],
      "source": [
        "plt.plot(x,scores)\n",
        "plt.xlabel(\"Neighbors\")\n",
        "plt.ylabel(\"Accuracy\")"
      ]
    },
    {
      "cell_type": "markdown",
      "metadata": {
        "id": "xF2nlPkNtUx2"
      },
      "source": [
        "Not that impressive. Let's see how this compares to a random classifier:"
      ]
    },
    {
      "cell_type": "code",
      "execution_count": 37,
      "metadata": {
        "id": "LDZYO0EvtUx2"
      },
      "outputs": [],
      "source": [
        "from sklearn.dummy import DummyClassifier\n",
        "\n",
        "random_scores = []\n",
        "random_f1 = []\n",
        "\n",
        "for k in range(1, 50):\n",
        "    # Train and fit the model\n",
        "    random_classifier = DummyClassifier(strategy=\"uniform\")\n",
        "    random_classifier.fit(X_train_sc, y_train)\n",
        "\n",
        "    # Convert X_test to NumPy array before making predictions\n",
        "    X_test_sc = scaler.transform(X_test_np)\n",
        "    y_pred = random_classifier.predict(X_test)\n",
        "\n",
        "    # Add accuracy score to a list\n",
        "    random_scores.append(accuracy_score(y_test_pred, y_test))\n",
        "\n",
        "    # F1 score is essentially binary, so we must do S or not S, add to list\n",
        "    random_f1.append(f1_score(y_test, y_test_pred, average='weighted', labels=genreSplit[\"Genre\"]))"
      ]
    },
    {
      "cell_type": "code",
      "execution_count": 38,
      "metadata": {
        "colab": {
          "base_uri": "https://localhost:8080/"
        },
        "id": "60ZuAZZstUx2",
        "outputId": "0c80eeda-fc0c-4ce5-ba07-b45f134f6297"
      },
      "outputs": [
        {
          "output_type": "stream",
          "name": "stdout",
          "text": [
            "Max Accuracy is 0.22966751918158568\n"
          ]
        }
      ],
      "source": [
        "max = pd.Series(random_scores).max()\n",
        "id = pd.Series(random_scores).idxmax()\n",
        "print(\"Max Accuracy is \" + str(max))"
      ]
    },
    {
      "cell_type": "code",
      "execution_count": 39,
      "metadata": {
        "colab": {
          "base_uri": "https://localhost:8080/",
          "height": 472
        },
        "id": "zsK-e648tUx2",
        "outputId": "43d42876-6658-494b-c7c2-b17b7f342bcb"
      },
      "outputs": [
        {
          "output_type": "display_data",
          "data": {
            "text/plain": [
              "<Figure size 640x480 with 1 Axes>"
            ],
            "image/png": "[encoded data removed]"
          },
          "metadata": {}
        }
      ],
      "source": [
        "plt.plot(x, scores)\n",
        "plt.plot(x, random_scores, '-.')\n",
        "\n",
        "plt.xlabel(\"Neighbors\")\n",
        "plt.ylabel(\"Accuracy\")\n",
        "plt.title('multiple plots')\n",
        "plt.show()"
      ]
    },
    {
      "cell_type": "markdown",
      "metadata": {
        "id": "5rtg4L9-tUx3"
      },
      "source": [
        "Pretty bad, and random. Let's try something else."
      ]
    },
    {
      "cell_type": "markdown",
      "metadata": {
        "id": "MGHGLzn4zRLn"
      },
      "source": [
        "Since there was little correlation on the how sale, number of achivment, and review relate to the genre, we decided to attempt to predict how well a game would sell globally given its sale in North America and its rating"
      ]
    },
    {
      "cell_type": "code",
      "execution_count": 40,
      "metadata": {
        "colab": {
          "base_uri": "https://localhost:8080/"
        },
        "id": "755AYiHJziZA",
        "outputId": "173aa3a0-5fce-4941-c6f8-d229421bc96b"
      },
      "outputs": [
        {
          "output_type": "stream",
          "name": "stdout",
          "text": [
            "<class 'pandas.core.frame.DataFrame'>\n",
            "Int64Index: 2254 entries, 0 to 9768\n",
            "Data columns (total 22 columns):\n",
            " #   Column                Non-Null Count  Dtype  \n",
            "---  ------                --------------  -----  \n",
            " 0   Platform              2254 non-null   object \n",
            " 1   Year                  2254 non-null   float64\n",
            " 2   Genre                 2254 non-null   object \n",
            " 3   Publisher             2254 non-null   object \n",
            " 4   North America         2254 non-null   float64\n",
            " 5   Europe                2254 non-null   float64\n",
            " 6   Japan                 2254 non-null   float64\n",
            " 7   Other                 2254 non-null   float64\n",
            " 8   Global_Sales          2254 non-null   float64\n",
            " 9   metacritic            2254 non-null   float64\n",
            " 10  released              2254 non-null   object \n",
            " 11  rating                2254 non-null   float64\n",
            " 12  playtime              2254 non-null   int64  \n",
            " 13  achievements_count    2254 non-null   int64  \n",
            " 14  ratings_count         2254 non-null   int64  \n",
            " 15  platforms             2254 non-null   object \n",
            " 16  added_status_yet      2254 non-null   int64  \n",
            " 17  added_status_owned    2254 non-null   int64  \n",
            " 18  added_status_beaten   2254 non-null   int64  \n",
            " 19  added_status_toplay   2254 non-null   int64  \n",
            " 20  added_status_dropped  2254 non-null   int64  \n",
            " 21  added_status_playing  2254 non-null   int64  \n",
            "dtypes: float64(8), int64(9), object(5)\n",
            "memory usage: 405.0+ KB\n"
          ]
        }
      ],
      "source": [
        "sales = merged.drop(columns = [\"Name\", \"Rank\", \"id\", \"genres\"])\n",
        "sales = sales.dropna()\n",
        "sales.info()"
      ]
    },
    {
      "cell_type": "code",
      "execution_count": 41,
      "metadata": {
        "id": "CD2BTy64zvVB"
      },
      "outputs": [],
      "source": [
        "from sklearn.preprocessing import StandardScaler\n",
        "from sklearn.neighbors import KNeighborsRegressor\n",
        "from sklearn.feature_extraction import DictVectorizer\n",
        "from sklearn.metrics import f1_score\n",
        "from sklearn.metrics import accuracy_score\n",
        "from sklearn.pipeline import Pipeline\n",
        "from sklearn.model_selection import cross_val_score"
      ]
    },
    {
      "cell_type": "code",
      "execution_count": 59,
      "metadata": {
        "colab": {
          "base_uri": "https://localhost:8080/",
          "height": 1000
        },
        "id": "zPC9jKmT4BuH",
        "outputId": "1085e930-1211-48aa-ea26-1c160faa0885"
      },
      "outputs": [
        {
          "output_type": "execute_result",
          "data": {
            "text/plain": [
              "10    0.565835\n",
              "11    0.567231\n",
              "9     0.568495\n",
              "12    0.570290\n",
              "8     0.570467\n",
              "13    0.572310\n",
              "15    0.573427\n",
              "14    0.574316\n",
              "7     0.574349\n",
              "16    0.575043\n",
              "20    0.575288\n",
              "21    0.575471\n",
              "22    0.575487\n",
              "18    0.575557\n",
              "17    0.575640\n",
              "19    0.575667\n",
              "6     0.575780\n",
              "24    0.575947\n",
              "23    0.576160\n",
              "25    0.576645\n",
              "26    0.576763\n",
              "27    0.577176\n",
              "33    0.577879\n",
              "28    0.578003\n",
              "29    0.578248\n",
              "31    0.578445\n",
              "34    0.578541\n",
              "30    0.578640\n",
              "32    0.578743\n",
              "35    0.578866\n",
              "36    0.579224\n",
              "37    0.579327\n",
              "39    0.579986\n",
              "38    0.580047\n",
              "40    0.580783\n",
              "41    0.581275\n",
              "5     0.581706\n",
              "42    0.581888\n",
              "43    0.582737\n",
              "44    0.583617\n",
              "45    0.584647\n",
              "46    0.585204\n",
              "47    0.586173\n",
              "49    0.586188\n",
              "4     0.586209\n",
              "50    0.586332\n",
              "48    0.586447\n",
              "3     0.591731\n",
              "2     0.604560\n",
              "1     0.647693\n",
              "dtype: float64"
            ]
          },
          "metadata": {},
          "execution_count": 59
        },
        {
          "output_type": "display_data",
          "data": {
            "text/plain": [
              "<Figure size 640x480 with 1 Axes>"
            ],
            "image/png": "[encoded data removed]"
          },
          "metadata": {}
        }
      ],
      "source": [
        "features = [\"North America\", \"rating\"]\n",
        "X_train_dict = sales[features].to_dict(orient=\"records\")\n",
        "y_train = sales['Global_Sales']\n",
        "\n",
        "def get_cv_error(k):\n",
        "    vec = DictVectorizer(sparse=False)\n",
        "    model = KNeighborsRegressor(n_neighbors=k)\n",
        "    pipeline = Pipeline([(\"vectorizer\", vec), (\"fit\", model)])\n",
        "    mae = (np.mean(-cross_val_score(\n",
        "        pipeline, X_train_dict, y_train,\n",
        "        cv=10, scoring=\"neg_mean_absolute_error\"\n",
        "    )))\n",
        "    return mae\n",
        "\n",
        "\n",
        "ks = pd.Series(range(1, 51))\n",
        "ks.index = range(1, 51)\n",
        "test_errs = ks.apply(get_cv_error)\n",
        "\n",
        "test_errs.plot.line()\n",
        "test_errs.sort_values()"
      ]
    },
    {
      "cell_type": "code",
      "execution_count": null,
      "metadata": {
        "id": "aI6vMzbfNmT-",
        "outputId": "e0fa2c5e-96b5-43e3-9fef-f650f87c4362"
      },
      "outputs": [
        {
          "data": {
            "text/plain": [
              "count    2254.000000\n",
              "mean        1.180563\n",
              "std         2.994768\n",
              "min         0.010000\n",
              "25%         0.110000\n",
              "50%         0.400000\n",
              "75%         1.080000\n",
              "max        82.740000\n",
              "Name: Global_Sales, dtype: float64"
            ]
          },
          "execution_count": 199,
          "metadata": {},
          "output_type": "execute_result"
        }
      ],
      "source": [
        "y_train.describe()"
      ]
    },
    {
      "cell_type": "markdown",
      "metadata": {
        "id": "_BIAKPDHhoM9"
      },
      "source": [
        "We get the lowest MAE Error at around 10, hence why we are choosing KNN n=10 for our best model. From here, as we learnt in class, MAE and RMSE measure how off a \"typical\" prediction is. There are other metrics that can be used to measure the quality of a regression model, but these are the most common ones. For our MAE for n=10, after using cross validation with a cv of 10, we got an MAE of 0.565.This is put into the context of having a mean of 1.18, which means typically we would be .565 off our guess, which isn't great, but is definitely an improvement.\n",
        "\n",
        "Additionally, we chose to use MAE over RMSE as RMSE is senstive to outliers, which our data has a few."
      ]
    }
  ],
  "metadata": {
    "colab": {
      "provenance": []
    },
    "kernelspec": {
      "display_name": "Python 3",
      "language": "python",
      "name": "python3"
    },
    "language_info": {
      "codemirror_mode": {
        "name": "ipython",
        "version": 3
      },
      "file_extension": ".py",
      "mimetype": "text/x-python",
      "name": "python",
      "nbconvert_exporter": "python",
      "pygments_lexer": "ipython3",
      "version": "3.9.6"
    }
  },
  "nbformat": 4,
  "nbformat_minor": 0
}